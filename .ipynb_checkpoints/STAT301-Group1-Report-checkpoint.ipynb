{
 "cells": [
  {
   "cell_type": "code",
   "execution_count": null,
   "id": "458c1f63-17e1-4f86-9457-3fe6f471225b",
   "metadata": {},
   "outputs": [
    {
     "name": "stderr",
     "output_type": "stream",
     "text": [
      "also installing the dependencies ‘pkgload’, ‘testthat’, ‘minqa’, ‘nloptr’, ‘RcppEigen’, ‘lme4’\n",
      "\n",
      "\n"
     ]
    },
    {
     "name": "stdout",
     "output_type": "stream",
     "text": [
      "\n",
      "  There are binary versions available but the source versions are later:\n",
      "             binary    source needs_compilation\n",
      "pkgload       1.2.4     1.3.2             FALSE\n",
      "testthat      3.1.3     3.1.5              TRUE\n",
      "minqa         1.2.4     1.2.5              TRUE\n",
      "nloptr        2.0.0     2.0.3              TRUE\n",
      "RcppEigen 0.3.3.9.1 0.3.3.9.3              TRUE\n",
      "lme4         1.1-28    1.1-31              TRUE\n",
      "car          3.0-12     3.1-1             FALSE\n",
      "\n"
     ]
    },
    {
     "name": "stderr",
     "output_type": "stream",
     "text": [
      "installing the source packages ‘pkgload’, ‘testthat’, ‘minqa’, ‘nloptr’, ‘RcppEigen’, ‘lme4’, ‘car’\n",
      "\n",
      "\n",
      "Warning message in install.packages(\"car\"):\n",
      "“installation of package ‘pkgload’ had non-zero exit status”\n",
      "Warning message in install.packages(\"car\"):\n",
      "“installation of package ‘minqa’ had non-zero exit status”\n"
     ]
    }
   ],
   "source": [
    "# # install packages if not already installed on your machine\n",
    "install.packages(\"car\")\n",
    "install.packages(\"plyr\")\n",
    "install.packages(\"olsrr\")\n",
    "install.packages(\"leaps\")\n",
    "install.packages(\"GGally\")\n",
    "install.packages(\"reshape\")\n",
    "install.packages(\"janitor\")\n",
    "install.packages(\"ggplot2\")\n",
    "install.packages(\"tidyverse\")\n",
    "install.packages(\"gridExtra\")\n",
    "install.packages(\"tidymodels\")\n",
    "\n",
    "# Load required packages\n",
    "library(\"car\")\n",
    "library(\"plyr\")\n",
    "library(\"olsrr\")\n",
    "library(\"leaps\")\n",
    "library(\"GGally\")\n",
    "library(\"reshape\")\n",
    "library(\"janitor\")\n",
    "library(\"ggplot2\")\n",
    "library(\"tidyverse\")\n",
    "library(\"gridExtra\")\n",
    "library(\"tidymodels\")"
   ]
  },
  {
   "cell_type": "markdown",
   "id": "19eb4990-44f7-4a9e-9a09-6148bed75e7d",
   "metadata": {
    "tags": []
   },
   "source": [
    "# <center> Proposal Plan </center>"
   ]
  },
  {
   "cell_type": "markdown",
   "id": "6bc58abd-7e3d-4d8a-8b80-6bf71c89a2a9",
   "metadata": {},
   "source": [
    "**Authors** Group 1, Proposal (Fiona Wang, Jack Fan, William Surya, Ria Ji)"
   ]
  },
  {
   "cell_type": "markdown",
   "id": "babaaebb-6ba2-4416-832a-db22f7109c04",
   "metadata": {},
   "source": [
    "**Abstract**   "
   ]
  },
  {
   "cell_type": "markdown",
   "id": "34465157-3d9d-4cb4-bbf1-fd2783675520",
   "metadata": {},
   "source": [
    "## 1. Introduction"
   ]
  },
  {
   "cell_type": "markdown",
   "id": "3ccb1657-8564-460d-9377-0894a09bd4f2",
   "metadata": {},
   "source": [
    "### 1.1 Background"
   ]
  },
  {
   "cell_type": "markdown",
   "id": "8d16b2d4-5a0e-461b-957c-0470388c61c6",
   "metadata": {},
   "source": [
    "Life expectancy is the estimate of the average number of additional years a person is expected to live. A growing body of research suggests that a person's life expectancy may be affected by a number of essential external factors, including but not limited to alcohol consumption level(the rate of people in a country drinking alcohol or not), regional differences, developing or developed country, BMI(body mass index), population, schooling(the education level of the population).   \n",
    "\n",
    "Because where people live and work, what kind of lifestyle they are having, big or small the population is(resources allocated per capita), and their educational level, all affect their health, further speaking, they will affect their life expectancy over time.   \n",
    "\n",
    "Insurance companies typically charge premiums for customers who are likely to pass away shortly after purchasing their policy. This is because they are undertaking a greater risk of paying the entire policy before the customer has invested more than the policy's worth. Therefore, life insurance companies use one's life expectancy to set the pricing of life insurance policies (Social Security, 2019). If there is a huge gap between your age and your life expectancy, there is a lower risk for the insurance company and the policy will be set at a cheaper price."
   ]
  },
  {
   "cell_type": "markdown",
   "id": "834dfa66-ee46-4fdb-b95d-d95bb49172c8",
   "metadata": {},
   "source": [
    "### 1.2 Question"
   ]
  },
  {
   "cell_type": "markdown",
   "id": "5d2bd223-1e97-422f-a53b-55bf52cdcf06",
   "metadata": {},
   "source": [
    "As such, the motivation behind this group project is to determine the factors that best predicts one's life expectancy. Formally, we are addressing the question: \"What are the variables that best predict one's life expectancy?\" "
   ]
  },
  {
   "cell_type": "markdown",
   "id": "f7cc785e-740c-4939-8f6d-6c4a29d7d59c",
   "metadata": {},
   "source": [
    "### 1.3 Dataset\n"
   ]
  },
  {
   "cell_type": "markdown",
   "id": "7f5d1e4e-9fb0-4fac-896d-182b96ace546",
   "metadata": {},
   "source": [
    "To answer this question, we will be using the Life Expectancy Dataset from Kaggle (https://www.kaggle.com/datasets/kumarajarshi/life-expectancy-who). The dataset consists of 2938 rows of Life Expectancy data collected from the World Health Organization (WHO) from 2000 to 2015 across 193 countries. Each row has 20 explanatory variable which can be grouped into several broad categories: Immunization related factors, Mortality factors, Economical factors and Social factors(Kumar., 2017)."
   ]
  },
  {
   "cell_type": "markdown",
   "id": "db2ff6c7-7bad-4e71-8d6b-97c15ce48c77",
   "metadata": {
    "tags": []
   },
   "source": [
    "## 2. Methods and Results"
   ]
  },
  {
   "cell_type": "markdown",
   "id": "e87dde51-756e-4a3f-a0bf-3ebae1ffc582",
   "metadata": {
    "tags": []
   },
   "source": [
    "### 2.1 Data Wrangling"
   ]
  },
  {
   "cell_type": "markdown",
   "id": "25b78dc5-39d1-41c3-868f-76cf0e535ebf",
   "metadata": {},
   "source": [
    "We'll start by importing the dataset, loading it into a dataframe and inspecting the results. The original dataset can be found [here](https://www.kaggle.com/datasets/kumarajarshi/life-expectancy-who)."
   ]
  },
  {
   "cell_type": "code",
   "execution_count": null,
   "id": "3b72640d-d971-408b-bc43-6e816d186b93",
   "metadata": {
    "vscode": {
     "languageId": "r"
    }
   },
   "outputs": [],
   "source": [
    "le = read_csv(\"https://shorturl.at/FV478\")"
   ]
  },
  {
   "cell_type": "code",
   "execution_count": null,
   "id": "c8140635-019d-42ff-bc37-f2c60a7321c3",
   "metadata": {
    "vscode": {
     "languageId": "r"
    }
   },
   "outputs": [],
   "source": [
    "# In order to display all column names, we need to change the max # of cols displayed\n",
    "options(repr.matrix.max.cols=22, repr.matrix.max.rows=37)"
   ]
  },
  {
   "cell_type": "code",
   "execution_count": null,
   "id": "48afbbfa-3f13-42cf-8725-44d60f1ba3d5",
   "metadata": {
    "vscode": {
     "languageId": "r"
    }
   },
   "outputs": [],
   "source": [
    "# preview the first and last 3 rows of our data\n",
    "head(le, n = 3)\n",
    "tail(le, n = 3)"
   ]
  },
  {
   "cell_type": "markdown",
   "id": "e67335d9-fa01-40d0-a865-1bf626e124e4",
   "metadata": {},
   "source": [
    "As described in [[3.4 Tidy data, 1]](https://datasciencebook.ca/wrangling.html#tidy-data), a cleaned dataset should have the following attributes:   \n",
    "> 1. each row is a single observation,   \n",
    "> 2. each column is a single variable, and   \n",
    "> 3. each value is a single cell (i.e., its entry in the data frame is not shared with another value).   \n",
    "\n",
    "Our data clearly comes in with a tidy format."
   ]
  },
  {
   "cell_type": "markdown",
   "id": "e6d05598-c0de-4bb5-af43-b5f41625f384",
   "metadata": {},
   "source": [
    "Three steps can be done to improve our data, listed as following: \n",
    "- For readibility and naming convention, we will convert variable names into lowercase, and we will replace space in variable names with underscores for the validity of syntax. We can do these with the help of the janitor library.\n",
    "- Moreover, we will remove `N/A` values if there exists any. \n",
    "- Also, we will convert \"country\" and \"status\" variables into `factor` type as they are expected to be. "
   ]
  },
  {
   "cell_type": "code",
   "execution_count": null,
   "id": "90581759-6969-4b2c-943f-c1a3277a8251",
   "metadata": {
    "vscode": {
     "languageId": "r"
    }
   },
   "outputs": [],
   "source": [
    "le = clean_names(le)"
   ]
  },
  {
   "cell_type": "code",
   "execution_count": null,
   "id": "26e28a39-eb1e-4313-8b5c-8b8995fb272d",
   "metadata": {
    "vscode": {
     "languageId": "r"
    }
   },
   "outputs": [],
   "source": [
    "le = le %>% \n",
    "    mutate(country = as_factor(country)) %>% \n",
    "    mutate(status = as_factor(status))"
   ]
  },
  {
   "cell_type": "code",
   "execution_count": null,
   "id": "4ade23e7-90c0-4cbe-b649-ccc2ce415b22",
   "metadata": {
    "vscode": {
     "languageId": "r"
    }
   },
   "outputs": [],
   "source": [
    "# remove all NAs\n",
    "\n",
    "total_rows <- le %>% nrow()\n",
    "\n",
    "print(sprintf(\"there are %d rows in the data frame\",total_rows))\n",
    "\n",
    "le <- na.omit(le)\n",
    "\n",
    "print(sprintf(\"there are %d rows in the data frame\", nrow(le)))"
   ]
  },
  {
   "cell_type": "code",
   "execution_count": null,
   "id": "8bb313c6-04b6-47c0-9fae-b4112fcc7a13",
   "metadata": {
    "vscode": {
     "languageId": "r"
    }
   },
   "outputs": [],
   "source": [
    "le = le %>%     \n",
    "    mutate(country = as_factor(country)) %>%\n",
    "    mutate(status = as_factor(status))"
   ]
  },
  {
   "cell_type": "code",
   "execution_count": null,
   "id": "65bf4f56-a59b-4919-9c44-fc4820f2b5d7",
   "metadata": {
    "vscode": {
     "languageId": "r"
    }
   },
   "outputs": [],
   "source": [
    "# review our data\n",
    "tail(le, n = 3)"
   ]
  },
  {
   "cell_type": "markdown",
   "id": "a59cba40-1277-47f2-a4aa-8112ddc8c67b",
   "metadata": {
    "tags": []
   },
   "source": [
    "### 2.2 Exploratory Data Analysis: Correlations"
   ]
  },
  {
   "cell_type": "code",
   "execution_count": null,
   "id": "6084f382-2705-466d-ad97-81a1943b39d6",
   "metadata": {
    "vscode": {
     "languageId": "r"
    }
   },
   "outputs": [],
   "source": [
    "# correlation between numeric variables\n",
    "cor_matrix <- cor(subset(le, select = -c(country, status) ))\n",
    "melted <- melt(cor_matrix)\n",
    "\n",
    "# Make plots larger \n",
    "options(repr.plot.width=13, repr.plot.height=11)\n",
    "\n",
    "ggplot(melted) +\n",
    "    geom_tile(aes(X1, X2, fill=value), colour = \"black\") + \n",
    "    geom_text(aes(X1, X2, label = round(value,2)), color = \"black\", size = 3.5) +\n",
    "    theme(axis.text.x = element_text(angle = 90, vjust = 0.5, hjust=1), \n",
    "          axis.text=element_text(size=15, face=\"bold\"), \n",
    "          axis.title=element_blank()) +\n",
    "    scale_fill_gradient2(low = \"#6D9EC1\", high = \"#E46726\")+\n",
    "    guides(fill = guide_colourbar(barwidth = 0.5, barheight = 20))"
   ]
  },
  {
   "cell_type": "markdown",
   "id": "42133b58-c3ef-48cd-8fb8-5ce08c6ed65b",
   "metadata": {},
   "source": [
    "We noticed some of the variables have high correlation with our response variable, so we decide to explore each of their relationship with life expectancy individually. We plotted linear regression plot for the top 7 variables, which are gdp, adult_mortality, hiv_aids, income_composition_of_resources, school, percentage_expenditure, and bmi."
   ]
  },
  {
   "cell_type": "code",
   "execution_count": null,
   "id": "4e3af88a-9f3c-4f3e-987d-099853413268",
   "metadata": {},
   "outputs": [],
   "source": [
    "options(repr.plot.width=17, repr.plot.height=15, warnings = FALSE)\n",
    "plot1 <- le %>% ggplot(mapping = aes(gdp, life_expectancy)) + \n",
    "    geom_point() + \n",
    "    geom_smooth(method=\"lm\", se = FALSE) + \n",
    "    theme(text=element_text(size=15, face=\"bold\"))+\n",
    "    labs(title = \"Linear regression plot for Life Expectancy vs GDP\", x=\"GDP\", y=\"Life Expectancy\")\n",
    "\n",
    "plot2 <- le %>% ggplot(mapping = aes(adult_mortality, life_expectancy)) + \n",
    "    geom_point() + \n",
    "    geom_smooth(method=\"lm\", se = FALSE) + \n",
    "    theme(text=element_text(size=15, face=\"bold\"))+\n",
    "    labs(title = \"Linear regression for Life Expectancy vs Adult Mortality\", x=\"Adult Mortality\", y=\"Life Expectancy\")\n",
    "\n",
    "plot3 <- le %>% ggplot(mapping=aes(hiv_aids,life_expectancy)) + \n",
    "    geom_point() + \n",
    "    geom_smooth(method=\"lm\", se = FALSE) + \n",
    "    theme(text=element_text(size=15, face=\"bold\"))+\n",
    "    labs(title = \"Linear regression plot for Life Expectancy vs HIV Aids\", x=\"HIV Aids\", y=\"Life Expectancy\")\n",
    "\n",
    "plot4 <- le %>% ggplot(mapping=aes(income_composition_of_resources,life_expectancy)) + \n",
    "    geom_point() + \n",
    "    geom_smooth(method=\"lm\", se = FALSE) + \n",
    "    theme(text=element_text(size=15, face=\"bold\"))+\n",
    "    labs(title = \"Linear regression plot for Life Expectancy vs Income Composition of Resources\", \n",
    "         x=\"Income Composition of resources\", y=\"Life Expectancy\")\n",
    "\n",
    "plot5 <- le %>% ggplot(mapping=aes(schooling,life_expectancy)) + \n",
    "    geom_point(size = 0.5) + \n",
    "    geom_smooth(method=\"lm\", se = FALSE) + \n",
    "    theme(text=element_text(size=15, face=\"bold\"))+\n",
    "    labs(title = \"Linear regression plot for Life Expectancy vs Schooling\", x=\"Schooling\", y=\"Life Expectancy\")\n",
    "\n",
    "plot6 <- le %>% ggplot(mapping = aes(percentage_expenditure, life_expectancy)) + \n",
    "    geom_point() + \n",
    "    geom_smooth(method=\"lm\", se = FALSE) + \n",
    "    theme(text=element_text(size=15, face=\"bold\"))+\n",
    "    labs(title = \"Linear regression plot for Life Expectancy vs Expenditure Percentage\", x=\"Expenditure Percentage\", y=\"Life Expectancy\")\n",
    "\n",
    "plot7 <- le %>% ggplot(mapping=aes(bmi,life_expectancy)) + \n",
    "    geom_point() + \n",
    "    geom_smooth(method=\"lm\", se = FALSE) + \n",
    "    theme(text=element_text(size=15, face=\"bold\"))+\n",
    "    labs(title = \"Linear regression plot for Life Expectancy vs BMI\", x=\"BMI\", y=\"Life Expectancy\")\n",
    "\n",
    "grid.arrange(plot1, plot2, plot3, plot4, plot5, plot6, plot7, nrow = 4)"
   ]
  },
  {
   "cell_type": "markdown",
   "id": "1153705b-7e31-424b-964c-49802ea6a242",
   "metadata": {},
   "source": [
    "From the graph above, gdp, hiv_aids, and percentage_expenditure seems to be mostly clustered along the lower end of the x-axis, with few points on the larger scale. For other four variables, points are mostly scattered apart along the regression line. We noticed that adult mortality have a strong linear association with life expectancy, but we are excluding this variable in later analysis since it is very similar to our response variable, both are measure of people's death, a variation of life expectancy, its strong correlation might effect the exploration on other possible predictor variables. For the same reason, we are also excluding infant_deaths and under_five_deaths, it is just a quantitative measurement of people with lower life expectancy. The country variable is not included as well since we are not considering life expectancy difference across countries and it cannot classify as a category variable.  "
   ]
  },
  {
   "cell_type": "code",
   "execution_count": null,
   "id": "2129611b-937c-4124-bcda-ffe133f37338",
   "metadata": {},
   "outputs": [],
   "source": [
    "le = subset(select(le, -country))"
   ]
  },
  {
   "cell_type": "markdown",
   "id": "7927a405-b92c-4bd1-816d-99f442f05924",
   "metadata": {
    "tags": []
   },
   "source": [
    "### 2.3 Exploratory Data Analysis: Visualizations"
   ]
  },
  {
   "cell_type": "markdown",
   "id": "5a206ec3-6d43-495a-97d1-07d8c4ab0b30",
   "metadata": {},
   "source": [
    "First, we will start with exploring the distribution of life expectancy using a histogram. We can see from the graph below, the distribution is unimodel but not normal and it is slightly left-skewed. The mean year of life expectancy is slgihtly below 70, but there are above 200 people has life expectancy of 73 to 74 years. The graph below gives us a general view of the distribution of our response variable. "
   ]
  },
  {
   "cell_type": "code",
   "execution_count": null,
   "id": "4da4bd21-c0b3-49b5-877f-e75f5bf83738",
   "metadata": {},
   "outputs": [],
   "source": [
    "options(repr.plot.width=9, repr.plot.height=7)\n",
    "le %>% ggplot(aes(x = life_expectancy)) + \n",
    "    geom_histogram(alpha = 2,color = \"black\", fill = \"#6d9ec1\") +\n",
    "    geom_vline(aes(xintercept=mean(life_expectancy)), color=\"blue\",\n",
    "             linetype=\"dashed\", lwd = 2)+\n",
    "    labs(title=\"Life Expectancy Histogram Plot\",x=\"Life Expectancy (years)\", y = \"Count\")+\n",
    "    theme(text=element_text(size=15, face = \"bold\"))"
   ]
  },
  {
   "cell_type": "markdown",
   "id": "d7d10197-44b4-4591-8b27-8d5743e5331a",
   "metadata": {},
   "source": [
    "Also using a Q-Q plot to check if this data set is a normal distribution, which is one of the assumptions for doing linear regression. The graph below shows that our data set is not very normally distributed, it is a bit tailed and left skew. "
   ]
  },
  {
   "cell_type": "code",
   "execution_count": null,
   "id": "21bc7ea6-2b0e-41a7-86fb-c87c95374c81",
   "metadata": {},
   "outputs": [],
   "source": [
    "qqnorm(le$life_expectancy)\n",
    "qqline(le$life_expectancy, col = \"steelblue\", lwd = 3)"
   ]
  },
  {
   "cell_type": "markdown",
   "id": "6a5f3ac5-d20b-4818-9d7f-b6413cc66f48",
   "metadata": {},
   "source": [
    "Then we are exploring the relationship between Life Expectancy over the years from 2000 to 2015 according to country's developing status. From the graph below, the two lines of mean for both status showing an increasing trend, which means people have higher life expectancy on average in 2015 than 2000. We can also see a clear difference between developing countries and developed countires points, most of the data points are above 70 for developed country, while developing coutries' data points are mostly below 80. So considering this difference, we might need to include interaction terms in later analysis."
   ]
  },
  {
   "cell_type": "code",
   "execution_count": null,
   "id": "e35918c5-d2e2-4435-8b27-8508301e7f1e",
   "metadata": {},
   "outputs": [],
   "source": [
    "options(repr.plot.width=9, repr.plot.height=7)\n",
    "le %>% ggplot(mapping=aes(year,life_expectancy, color=status)) + \n",
    "    geom_point() + \n",
    "    geom_smooth(method=\"lm\",se=FALSE) + \n",
    "    theme(plot.title=element_text(size=17, face = \"bold\"), \n",
    "        axis.title=element_text(size=15, face=\"bold\"), \n",
    "        legend.title = element_text(size = 15, face = \"bold\")) + \n",
    "    labs(title=\"Life Expectancy from 2000-2015\", x = \"Year\", y = \"Life Expectancy\") + \n",
    "    geom_jitter()"
   ]
  },
  {
   "cell_type": "markdown",
   "id": "25c8e1eb-74c1-4133-aa65-5740697796bc",
   "metadata": {},
   "source": [
    "### 2.4 Train-Test Split"
   ]
  },
  {
   "cell_type": "markdown",
   "id": "e02573f2-834b-490e-a404-a081630f3176",
   "metadata": {},
   "source": [
    "To avoid potential information leakage from the test set which will result in adding bias to our model, we will first split the data into a train set and test set with a ratio of 75 / 25, before performing variable selection using the train set. Also, we want to have approximately the same proportions of data for the factor variable `status` to ensure the two subgroups `Developing` and `Developed` are properly represented in both train and test set. "
   ]
  },
  {
   "cell_type": "code",
   "execution_count": null,
   "id": "44a4ccaa-988a-44c5-9a25-da8ad6b2ba86",
   "metadata": {},
   "outputs": [],
   "source": [
    "set.seed(11)\n",
    "le_split = initial_split(le, prop = 0.75, strata = status)\n",
    "le_train = training(le_split)\n",
    "le_test  = testing(le_split)"
   ]
  },
  {
   "cell_type": "markdown",
   "id": "b527c16f-cd4e-48b0-8b27-bbcc64edbb4c",
   "metadata": {},
   "source": [
    "### 2.5 Variable Selection "
   ]
  },
  {
   "cell_type": "markdown",
   "id": "f9847c48-25d1-4220-9588-6202282295ce",
   "metadata": {},
   "source": [
    "First, we extract the column names for the full set of predictor variables, excluding `life_expectancy`, which is our response variable, for the use of the selection process in the next step. "
   ]
  },
  {
   "cell_type": "code",
   "execution_count": null,
   "id": "dd965a68-089d-493b-b0e6-6a60c4e79c3f",
   "metadata": {
    "vscode": {
     "languageId": "r"
    }
   },
   "outputs": [],
   "source": [
    "names <- colnames(select(le_train, -life_expectancy))\n",
    "names"
   ]
  },
  {
   "cell_type": "markdown",
   "id": "6dce5f5d-0f70-4f8e-b99e-750dfb89e3d6",
   "metadata": {},
   "source": [
    "In this step, we will perform a preliminary variable selection using the forward selection method. The forward selection process begins with a null model. Then iteratively, at each step, the model includes the variable that improves the model the best as the best subset model. The RSS (Residual Sum of Squares) is used as the criterion during the process. The model with the lowest RSS value is qualified as the best. "
   ]
  },
  {
   "cell_type": "code",
   "execution_count": null,
   "id": "9ab08766-1c3c-4773-acec-f6538a632bbd",
   "metadata": {
    "vscode": {
     "languageId": "r"
    }
   },
   "outputs": [],
   "source": [
    "le_forward_sel <- regsubsets(\n",
    "  x =  life_expectancy ~ ., nvmax = length(names),\n",
    "  data = le_train,\n",
    "  method = \"forward\"\n",
    ")\n",
    "\n",
    "le_forward_summary <- summary(le_forward_sel)\n",
    "le_forward_summary"
   ]
  },
  {
   "cell_type": "code",
   "execution_count": null,
   "id": "6230b754-d963-4a13-b37a-d71ad6328d2d",
   "metadata": {
    "vscode": {
     "languageId": "r"
    }
   },
   "outputs": [],
   "source": [
    "le_forward_summary_df <- tibble(\n",
    "    n_input_variables = 1:20,\n",
    "    RSQ = le_forward_summary$rsq,\n",
    "    RSS = le_forward_summary$rss,\n",
    "    ADJ.R2 = le_forward_summary$adjr2,\n",
    "    Cp = le_forward_summary$cp,\n",
    "    BIC = le_forward_summary$bic)\n",
    "le_forward_summary_df"
   ]
  },
  {
   "cell_type": "markdown",
   "id": "b75c358c-ecf7-4a2c-ad25-c971e33e3a6a",
   "metadata": {},
   "source": [
    "According to the above output, the model with 15 variables has the highest adjusted $R^2$ value (0.8426326). This indicates that the further added variables do not improve the model in the statistical sense, that is, the improvement to the model from added variables is not significantly different from what would be obtained by chance. Also, the Mallow's $C_p$ for the model with 15 variables is 13.81861, which suggests that the model performs decently well and unbiasedly. In addition, this model has the lowest BIC value as well (-2186.7663). "
   ]
  },
  {
   "cell_type": "markdown",
   "id": "edbe9446-9b58-4be1-b6bf-54f3a255268c",
   "metadata": {},
   "source": [
    "Thus, we will first construct a full model for calculating mallow's $C_p$ (referred as `md0`), then we will construct a model from the 15 variables as chosen above using train set. We will refer this model as `md1`. "
   ]
  },
  {
   "cell_type": "code",
   "execution_count": null,
   "id": "86a15d28-8591-471b-b8f2-2610046285e6",
   "metadata": {},
   "outputs": [],
   "source": [
    "# full model \n",
    "md0 = lm(life_expectancy ~ ., data = le_train)"
   ]
  },
  {
   "cell_type": "code",
   "execution_count": null,
   "id": "fa4a750b-f3d2-4e19-a942-5fd8227b380b",
   "metadata": {},
   "outputs": [],
   "source": [
    "# model with 15 variables \n",
    "md1 = lm(life_expectancy ~ year + status + adult_mortality + infant_deaths + alcohol + \n",
    "                          percentage_expenditure + bmi + under_five_deaths + \n",
    "                          polio + total_expenditure + diphtheria + hiv_aids + thinness_5_9_years + \n",
    "                          income_composition_of_resources + schooling, data = le_train)\n",
    "summary(md1)"
   ]
  },
  {
   "cell_type": "markdown",
   "id": "67dd7063-5f30-4c38-ab5f-957f8f721a3f",
   "metadata": {},
   "source": [
    "Due to the machanism the forward selection adopted, once a variable is selected during the process, it will always be carried to the next step. The previously significant variable may become non-significant due to correlations with newly added variables. It is important to remove variables one at a time to minimize the effect of underlyng correlations. Thus, we try to first construct a model without the least significant variables `polio` as shown in the above model output. Also, we will calculate Mallow's $C_p$ for both the `md1` and the model with variable `polio` removed, which we will refer to as `md2`. "
   ]
  },
  {
   "cell_type": "code",
   "execution_count": null,
   "id": "3c9eacb7-a519-46b9-9792-6f58aa283f29",
   "metadata": {},
   "outputs": [],
   "source": [
    "md2 = lm(life_expectancy ~ year + status + adult_mortality + infant_deaths + alcohol + \n",
    "                          percentage_expenditure + bmi + under_five_deaths + \n",
    "                          total_expenditure + diphtheria + hiv_aids + thinness_5_9_years + \n",
    "                          income_composition_of_resources + schooling, data = le_train)\n",
    "summary(md2)"
   ]
  },
  {
   "cell_type": "code",
   "execution_count": null,
   "id": "f8e08762-eb47-47af-a1c8-3d82c633a7ad",
   "metadata": {},
   "outputs": [],
   "source": [
    "ols_mallows_cp(md1, md0)"
   ]
  },
  {
   "cell_type": "code",
   "execution_count": null,
   "id": "ad9763d3-f41b-4b0f-b8cd-9898aa91d4c9",
   "metadata": {},
   "outputs": [],
   "source": [
    "ols_mallows_cp(md2, md0)"
   ]
  },
  {
   "cell_type": "markdown",
   "id": "1ccba1b2-4ae9-4930-8703-9c6129cd0a39",
   "metadata": {},
   "source": [
    "As seen above, the adjusted $R^2$ remains the same at the 4 digit level, indicating the model performance does not significantly differ from `md1`. The Mallow's $C_p$ decreased for `md2`, indicating a slightly higher precision and less bias.  Also, non-significant variable `diphtheria` in `md1` becomes significant in this model. Some potential confounding factors can be a possible explanation in this case.   "
   ]
  },
  {
   "cell_type": "markdown",
   "id": "264953d3-96c6-4aed-9282-fc2efbd7d8a8",
   "metadata": {},
   "source": [
    "Further, we would like to explore the multicolinearity (a.k.a the correlations between the covariates) by computing the Variance Inflation Factor (VIF). "
   ]
  },
  {
   "cell_type": "code",
   "execution_count": null,
   "id": "c2636ee5-599f-40c5-973e-31d5bc10c067",
   "metadata": {},
   "outputs": [],
   "source": [
    "md2.vif = data.frame(vif = vif(md2))\n",
    "md2.vif"
   ]
  },
  {
   "cell_type": "markdown",
   "id": "3b8520da-9913-4845-aff4-6a8b628270fe",
   "metadata": {},
   "source": [
    "The VIF result of covariates `infant_deaths` and `under_five_deaths` are significantly higher (> 180) than what is empirically taken as a threashold to determine a high correlation (usually greater than 10 indicates high correlation). Thus, we will try to remove `infant_deaths` first and do a further examination based on the results. We refer the model with `infant_deaths` removed as `md3`. "
   ]
  },
  {
   "cell_type": "code",
   "execution_count": null,
   "id": "54c54931-ab23-4f44-88bf-0134383ade59",
   "metadata": {},
   "outputs": [],
   "source": [
    "md3 = lm(life_expectancy ~ year + status + adult_mortality + alcohol + \n",
    "                          percentage_expenditure + bmi + under_five_deaths + \n",
    "                          total_expenditure + diphtheria + hiv_aids + thinness_5_9_years + \n",
    "                          income_composition_of_resources + schooling, data = le_train)\n",
    "summary(md3)"
   ]
  },
  {
   "cell_type": "code",
   "execution_count": null,
   "id": "44e04c5f-665c-4485-9270-adb09e774bc2",
   "metadata": {},
   "outputs": [],
   "source": [
    "md3.vif = data.frame(vif = vif(md3))\n",
    "md3.vif"
   ]
  },
  {
   "cell_type": "markdown",
   "id": "959f8e0f-8b96-461e-a936-d78acf54c556",
   "metadata": {},
   "source": [
    "As we can see, the adjusted $R^2$ decreased from 0.8426 to 0.8357 after removing one of the correlated covariates `infant_deaths`. However, the VIF results are all under 5, which indicates a relatively low correlation. The trade-off is worthy to make.   "
   ]
  },
  {
   "cell_type": "markdown",
   "id": "20a62d3c-bf3d-4c46-81b7-a1cb08050944",
   "metadata": {},
   "source": [
    "### 2.6 Detect Heteroscedasticity"
   ]
  },
  {
   "cell_type": "markdown",
   "id": "f1122f83-973a-47e9-be2b-e4737a167207",
   "metadata": {},
   "source": [
    "We are concerned about potential heteroscedasticity, which might be a serious issue when making predictioins. Non-constant variance makes the predicted standard deviation of forcast errors unreliable. Thus, we will explore this problem here. "
   ]
  },
  {
   "cell_type": "code",
   "execution_count": null,
   "id": "4e178511-46fe-4928-b533-262d2db0acf5",
   "metadata": {},
   "outputs": [],
   "source": [
    "par(mfrow = c(2, 2))\n",
    "plot(md3)"
   ]
  },
  {
   "cell_type": "markdown",
   "id": "bbafb9c9-9c3d-42a3-993d-3ca95376b474",
   "metadata": {},
   "source": [
    "<span style=\"color:red\">TODO: some interpretation here.  "
   ]
  },
  {
   "cell_type": "markdown",
   "id": "aa4013b7-8f8f-4e80-a828-36faf1a51422",
   "metadata": {},
   "source": [
    "### 2.7 Model Evaluation"
   ]
  },
  {
   "cell_type": "markdown",
   "id": "94cb8f08-9d81-45ad-bcb9-78f2d7b849cb",
   "metadata": {},
   "source": [
    "Therefore, `md3` will be our final model. Now, we will perform prediction on the test and calculate the coefficients of determination ($R^2$) to evaluate the model accuracy. "
   ]
  },
  {
   "cell_type": "code",
   "execution_count": null,
   "id": "0335b8e3-99c0-40ba-9037-377581f64ef1",
   "metadata": {},
   "outputs": [],
   "source": [
    "le_test[\"pred\"] <- predict(md3, le_test)"
   ]
  },
  {
   "cell_type": "code",
   "execution_count": null,
   "id": "3f85e8c6-87d2-45bb-99e5-3e71e7db8f65",
   "metadata": {},
   "outputs": [],
   "source": [
    "# compute coefficients of determination \n",
    "r_squared = cor(le_test[\"life_expectancy\"], le_test[\"pred\"]) ^ 2\n",
    "r_squared[1, 1]"
   ]
  },
  {
   "cell_type": "markdown",
   "id": "efbc5096-ed93-472a-ade8-2a1a8f95a037",
   "metadata": {},
   "source": [
    "We obtained a $R^2$ score of 0.82186366013365. This means approximately 82% of variability observed in `life_expectancy` in the test set can be explained by our model. "
   ]
  },
  {
   "cell_type": "markdown",
   "id": "998bfec0-2eed-4794-8209-df0981f90384",
   "metadata": {},
   "source": [
    "## 3. Methods"
   ]
  },
  {
   "cell_type": "markdown",
   "id": "34cbf058-6405-4f25-a3da-fe422db61f7c",
   "metadata": {},
   "source": [
    "- What methods do you plan on using?\n",
    "\n",
    "We will perform EDA to detect heteroscedasticity and remove multicollinearity. Afterwards, we will split the model into the training set and the testing set with a 75-25 split.\n",
    "\n",
    "Using the training set, we will perform a forward generative modelling to determine which input variables explain the variance of the error terms the best. Using the same training set, we will create a linear model using the selected input variables in an additive model.\n",
    "\n",
    "Finally, we will evaluate the performance of the linear model using the testing set.\n",
    "Stretch Goal: We will also evaluate a linear model using an interactive model, and compare which one is better using an ANOVA test.\n",
    "\n",
    "- What do you expect to achieve?\n",
    "\n",
    "Through our analysis, we expect to determine the input variables that predict one’s life expectancy the best, and the extent that the variable affects the predicted life expectancy.\n",
    "\n",
    "- What impact could your results have?\n",
    "\n",
    "Our results can be used by life insurance companies to determine the price of insurance plans depending on one’s expected life expectancy.\n",
    "\n"
   ]
  },
  {
   "cell_type": "markdown",
   "id": "40a59fc3-6465-479d-aca9-dc8e4507cc6e",
   "metadata": {},
   "source": [
    "### 3.1 Strengths"
   ]
  },
  {
   "cell_type": "markdown",
   "id": "5f645f9b-6330-4b18-8bb8-1886790dc721",
   "metadata": {},
   "source": [
    "### 3.2 Limitations"
   ]
  },
  {
   "cell_type": "markdown",
   "id": "6af2fc46-eb29-4b83-b3ed-ac08a984d7a1",
   "metadata": {},
   "source": [
    "### 3.3 Analysis"
   ]
  },
  {
   "cell_type": "markdown",
   "id": "3986d298-7372-46aa-b7ac-2c5c4ddcf26c",
   "metadata": {},
   "source": [
    "## 4. Reflection"
   ]
  },
  {
   "cell_type": "markdown",
   "id": "25fcc959-5028-4649-8b5d-75fe58afa0df",
   "metadata": {},
   "source": [
    "# <center>References</center>"
   ]
  },
  {
   "cell_type": "markdown",
   "id": "356b2c31-713f-4ea4-b16f-7a4dc2073da8",
   "metadata": {},
   "source": [
    "1. Data Science: A First Introduction. Last updated September 24, 2022. [Source](https://datasciencebook.ca/)."
   ]
  },
  {
   "cell_type": "code",
   "execution_count": null,
   "id": "0b0b856d-0213-47a5-9aac-cc4e03fb420a",
   "metadata": {
    "vscode": {
     "languageId": "r"
    }
   },
   "outputs": [],
   "source": []
  },
  {
   "cell_type": "code",
   "execution_count": null,
   "id": "6840a381-bd43-43fc-ac0c-e23c204791ab",
   "metadata": {},
   "outputs": [],
   "source": []
  },
  {
   "cell_type": "code",
   "execution_count": null,
   "id": "1db46d2c-b140-45d8-a927-bbad66fa606f",
   "metadata": {},
   "outputs": [],
   "source": []
  },
  {
   "cell_type": "code",
   "execution_count": null,
   "id": "b61516d7-64b6-4abe-bd54-da94d120da79",
   "metadata": {},
   "outputs": [],
   "source": []
  },
  {
   "cell_type": "code",
   "execution_count": null,
   "id": "40cf05a9-4460-4046-8665-34c253530ee5",
   "metadata": {},
   "outputs": [],
   "source": []
  },
  {
   "cell_type": "code",
   "execution_count": null,
   "id": "b946f4a6-a0df-4b8a-ac36-212182434e14",
   "metadata": {},
   "outputs": [],
   "source": []
  },
  {
   "cell_type": "code",
   "execution_count": null,
   "id": "d45492c3-dd32-499f-bf8e-99414a764f0a",
   "metadata": {},
   "outputs": [],
   "source": []
  },
  {
   "cell_type": "code",
   "execution_count": null,
   "id": "239b249e-a3a5-4054-89e9-209243b76367",
   "metadata": {},
   "outputs": [],
   "source": []
  },
  {
   "cell_type": "code",
   "execution_count": null,
   "id": "69eadc96-65a6-4512-a43d-3bb60a2fd933",
   "metadata": {},
   "outputs": [],
   "source": []
  },
  {
   "cell_type": "code",
   "execution_count": null,
   "id": "7078639a-ff34-402b-80ad-57f55adba1ba",
   "metadata": {},
   "outputs": [],
   "source": []
  },
  {
   "cell_type": "code",
   "execution_count": null,
   "id": "255d9bc6-2b18-48d3-9d53-606acfec827a",
   "metadata": {},
   "outputs": [],
   "source": []
  },
  {
   "cell_type": "code",
   "execution_count": null,
   "id": "88e82c25-a807-4f1e-88ed-b6f5e8d7bac0",
   "metadata": {},
   "outputs": [],
   "source": []
  }
 ],
 "metadata": {
  "kernelspec": {
   "display_name": "R",
   "language": "R",
   "name": "ir"
  },
  "language_info": {
   "codemirror_mode": "r",
   "file_extension": ".r",
   "mimetype": "text/x-r-source",
   "name": "R",
   "pygments_lexer": "r",
   "version": "4.0.3"
  }
 },
 "nbformat": 4,
 "nbformat_minor": 5
}
