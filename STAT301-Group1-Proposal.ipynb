{
 "cells": [
  {
   "cell_type": "markdown",
   "id": "19eb4990-44f7-4a9e-9a09-6148bed75e7d",
   "metadata": {},
   "source": [
    "# <center> STAT 301 Project: Proposal </center>"
   ]
  },
  {
   "cell_type": "markdown",
   "id": "6bc58abd-7e3d-4d8a-8b80-6bf71c89a2a9",
   "metadata": {},
   "source": [
    "**Group Members (Group 1)** Fiona Wang, Jack Fan, William Suryawidjaja, Ria Ji"
   ]
  },
  {
   "cell_type": "markdown",
   "id": "34465157-3d9d-4cb4-bbf1-fd2783675520",
   "metadata": {},
   "source": [
    "## 1. Introduction"
   ]
  },
  {
   "cell_type": "markdown",
   "id": "8d16b2d4-5a0e-461b-957c-0470388c61c6",
   "metadata": {},
   "source": [
    "Life expectancy is the estimate of the average number of additional years a person is expected to live. Your life expectancy can be affected by various factors such as genetics as well as your lifestyle, which may reduce or increase your life expectancy over time (Passarino, 2016).\n",
    "\n",
    "Insurance companies typically charge premiums for customers who are likely to pass away shortly after purchasing their policy. This is because they are undertaking a greater risk of paying the entire policy before the customer has invested more than the policy's worth. Therefore, life insurance companies use one's life expectancy to set the pricing of life insurance policies (Social Security, 2019). If there is a huge gap between your age and your life expectancy, there is a lower risk for the insurance company and the policy will be set at a cheaper price."
   ]
  },
  {
   "cell_type": "markdown",
   "id": "5d2bd223-1e97-422f-a53b-55bf52cdcf06",
   "metadata": {},
   "source": [
    "As such, the motivation behind this group project is to determine the factors that best predicts one's life expectancy. Formally, we are addressing the question: \"What are the variables that best predict one's life expectancy?\""
   ]
  },
  {
   "cell_type": "markdown",
   "id": "7f5d1e4e-9fb0-4fac-896d-182b96ace546",
   "metadata": {},
   "source": [
    "To answer this question, we will be using the Life Expectancy Dataset from Kaggle (https://www.kaggle.com/datasets/kumarajarshi/life-expectancy-who). The dataset consists of 2938 rows of Life Expectancy data collected from the World Health Organization (WHO) from 2000 to 2015 across 193 countries. Each row has 20 explanatory variable which can be grouped into several broad categories: Immunization related factors, Mortality factors, Economical factors and Social factors(Kumar., 2017)."
   ]
  },
  {
   "cell_type": "markdown",
   "id": "db2ff6c7-7bad-4e71-8d6b-97c15ce48c77",
   "metadata": {
    "tags": []
   },
   "source": [
    "## 2. Preliminary Results"
   ]
  },
  {
   "cell_type": "markdown",
   "id": "e87dde51-756e-4a3f-a0bf-3ebae1ffc582",
   "metadata": {},
   "source": [
    "### 2.1 Data Wrangling"
   ]
  },
  {
   "cell_type": "code",
   "execution_count": null,
   "id": "376d8fbe-3639-41c1-b24f-308dc93e24d2",
   "metadata": {
    "vscode": {
     "languageId": "r"
    }
   },
   "outputs": [],
   "source": [
    "# install.packages(\"package_name\")\n",
    "# run this line of code to install the packages if they are not installed on your machine\n",
    "#install.packages(\"hardhat\")\n",
    "#install.packages(\"tidymodels\")\n",
    "\n",
    "# Load required packages\n",
    "library(\"GGally\")\n",
    "library(\"ggplot2\")\n",
    "library(\"janitor\")\n",
    "library(\"plyr\")\n",
    "library(\"tidyverse\")\n",
    "library(\"reshape\")\n",
    "library(\"leaps\")\n",
    "library(\"gridExtra\")\n",
    "#library(\"tidymodels\")"
   ]
  },
  {
   "cell_type": "markdown",
   "id": "25b78dc5-39d1-41c3-868f-76cf0e535ebf",
   "metadata": {},
   "source": [
    "We'll start by importing the dataset, loading it into a dataframe and inspecting the results. The original dataset can be found [here](https://www.kaggle.com/datasets/kumarajarshi/life-expectancy-who)."
   ]
  },
  {
   "cell_type": "code",
   "execution_count": null,
   "id": "3b72640d-d971-408b-bc43-6e816d186b93",
   "metadata": {
    "vscode": {
     "languageId": "r"
    }
   },
   "outputs": [],
   "source": [
    "le = read_csv(\"https://shorturl.at/FV478\")"
   ]
  },
  {
   "cell_type": "code",
   "execution_count": null,
   "id": "c8140635-019d-42ff-bc37-f2c60a7321c3",
   "metadata": {
    "vscode": {
     "languageId": "r"
    }
   },
   "outputs": [],
   "source": [
    "# In order to display all column names, we need to change the max # of cols displayed\n",
    "options(repr.matrix.max.cols=22, repr.matrix.max.rows=37)"
   ]
  },
  {
   "cell_type": "code",
   "execution_count": null,
   "id": "48afbbfa-3f13-42cf-8725-44d60f1ba3d5",
   "metadata": {
    "vscode": {
     "languageId": "r"
    }
   },
   "outputs": [],
   "source": [
    "# preview the first and last 3 rows of our data\n",
    "head(le, n = 3)\n",
    "tail(le, n = 3)"
   ]
  },
  {
   "cell_type": "markdown",
   "id": "e67335d9-fa01-40d0-a865-1bf626e124e4",
   "metadata": {},
   "source": [
    "As described in [[3.4 Tidy data, 1]](https://datasciencebook.ca/wrangling.html#tidy-data), a cleaned dataset should have the following attributes:   \n",
    "> 1. Each row is a single observation,   \n",
    "> 2. Each column is a single variable, and   \n",
    "> 3. Each value is a single cell (i.e., its entry in the data frame is not shared with another value).   \n",
    "\n",
    "Hence, our imported dataset is already clean."
   ]
  },
  {
   "cell_type": "markdown",
   "id": "e6d05598-c0de-4bb5-af43-b5f41625f384",
   "metadata": {},
   "source": [
    "With that being said, we could further improve the usability our data by: \n",
    "- Convert variable names into lowercase (for readibility and naming convention), and we will replace space in variable names with underscores for the validity of syntax. We can do these with the help of the janitor library.\n",
    "- Removing `N/A` values if there exists any. \n",
    "- Convert \"country\" and \"status\" variables into the `factor` type as they are expected to be. "
   ]
  },
  {
   "cell_type": "code",
   "execution_count": null,
   "id": "90581759-6969-4b2c-943f-c1a3277a8251",
   "metadata": {
    "vscode": {
     "languageId": "r"
    }
   },
   "outputs": [],
   "source": [
    "le = clean_names(le)"
   ]
  },
  {
   "cell_type": "code",
   "execution_count": null,
   "id": "26e28a39-eb1e-4313-8b5c-8b8995fb272d",
   "metadata": {
    "vscode": {
     "languageId": "r"
    }
   },
   "outputs": [],
   "source": [
    "le = le %>% \n",
    "    mutate(country = as_factor(country)) %>% \n",
    "    mutate(status = as_factor(status))"
   ]
  },
  {
   "cell_type": "code",
   "execution_count": null,
   "id": "4ade23e7-90c0-4cbe-b649-ccc2ce415b22",
   "metadata": {
    "vscode": {
     "languageId": "r"
    }
   },
   "outputs": [],
   "source": [
    "# remove all NAs\n",
    "\n",
    "total_rows <- le %>% nrow()\n",
    "\n",
    "print(sprintf(\"there are %d rows in the data frame\",total_rows))\n",
    "\n",
    "le <- na.omit(le)\n",
    "\n",
    "print(sprintf(\"there are %d rows in the data frame\", nrow(le)))"
   ]
  },
  {
   "cell_type": "code",
   "execution_count": null,
   "id": "8bb313c6-04b6-47c0-9fae-b4112fcc7a13",
   "metadata": {
    "vscode": {
     "languageId": "r"
    }
   },
   "outputs": [],
   "source": [
    "le = le %>%     \n",
    "    mutate(country = as_factor(country)) %>%\n",
    "    mutate(status = as_factor(status))"
   ]
  },
  {
   "cell_type": "code",
   "execution_count": null,
   "id": "65bf4f56-a59b-4919-9c44-fc4820f2b5d7",
   "metadata": {
    "vscode": {
     "languageId": "r"
    }
   },
   "outputs": [],
   "source": [
    "# review our data\n",
    "tail(le, n = 3)"
   ]
  },
  {
   "cell_type": "markdown",
   "id": "a59cba40-1277-47f2-a4aa-8112ddc8c67b",
   "metadata": {},
   "source": [
    "### 2.2 Exploratory Data Analysis: Correlations"
   ]
  },
  {
   "cell_type": "code",
   "execution_count": null,
   "id": "6084f382-2705-466d-ad97-81a1943b39d6",
   "metadata": {
    "vscode": {
     "languageId": "r"
    }
   },
   "outputs": [],
   "source": [
    "# correlation between numeric variables\n",
    "cor_matrix <- cor(subset(le, select = -c(country, status) ))\n",
    "melted <- melt(cor_matrix)\n",
    "\n",
    "# Make plots larger \n",
    "options(repr.plot.width=13, repr.plot.height=11)\n",
    "\n",
    "ggplot(melted) +\n",
    "    geom_tile(aes(X1, X2, fill=value), colour = \"black\") + \n",
    "    geom_text(aes(X1, X2, label = round(value,2)), color = \"black\", size = 3.5) +\n",
    "    theme(axis.text.x = element_text(angle = 90, vjust = 0.5, hjust=1), \n",
    "          axis.text=element_text(size=15, face=\"bold\"), \n",
    "          axis.title=element_blank()) +\n",
    "    scale_fill_gradient2(low = \"#6D9EC1\", high = \"#E46726\")+\n",
    "    guides(fill = guide_colourbar(barwidth = 0.5, barheight = 20))"
   ]
  },
  {
   "cell_type": "markdown",
   "id": "8acf741f-bf0c-4158-b7a6-bf9b184bd67d",
   "metadata": {},
   "source": [
    "We noticed some of the variables have high correlation with our response variable, so we decide to explore each of their relationship with life expectancy individually. We plotted linear regression plot for the top 7 variables, which are *gdp, adult_mortality, hiv_aids, income_composition_of_resources, school, percentage_expenditure, and bmi*.  "
   ]
  },
  {
   "cell_type": "code",
   "execution_count": null,
   "id": "7e4c3215-ad5c-4c67-85c0-09c3d432c13c",
   "metadata": {
    "vscode": {
     "languageId": "r"
    }
   },
   "outputs": [],
   "source": [
    "options(repr.plot.width=17, repr.plot.height=15, warnings = FALSE)\n",
    "plot1 <- le %>% ggplot(mapping = aes(gdp, life_expectancy)) + \n",
    "    geom_point() + \n",
    "    geom_smooth(method=\"lm\", se = FALSE) + \n",
    "    theme(text=element_text(size=15, face=\"bold\"))+\n",
    "    labs(title = \"Linear regression plot for Life Expectancy vs GDP\", x=\"GDP\", y=\"Life Expectancy\")\n",
    "\n",
    "plot2 <- le %>% ggplot(mapping = aes(adult_mortality, life_expectancy)) + \n",
    "    geom_point() + \n",
    "    geom_smooth(method=\"lm\", se = FALSE) + \n",
    "    theme(text=element_text(size=15, face=\"bold\"))+\n",
    "    labs(title = \"Linear regression for Life Expectancy vs Adult Mortality\", x=\"Adult Mortality\", y=\"Life Expectancy\")\n",
    "\n",
    "plot3 <- le %>% ggplot(mapping=aes(hiv_aids,life_expectancy)) + \n",
    "    geom_point() + \n",
    "    geom_smooth(method=\"lm\", se = FALSE) + \n",
    "    theme(text=element_text(size=15, face=\"bold\"))+\n",
    "    labs(title = \"Linear regression plot for Life Expectancy vs HIV Aids\", x=\"HIV Aids\", y=\"Life Expectancy\")\n",
    "\n",
    "plot4 <- le %>% ggplot(mapping=aes(income_composition_of_resources,life_expectancy)) + \n",
    "    geom_point() + \n",
    "    geom_smooth(method=\"lm\", se = FALSE) + \n",
    "    theme(text=element_text(size=15, face=\"bold\"))+\n",
    "    labs(title = \"Linear regression plot for Life Expectancy vs Income Composition of Resources\", \n",
    "         x=\"Income Composition of resources\", y=\"Life Expectancy\")\n",
    "\n",
    "plot5 <- le %>% ggplot(mapping=aes(schooling,life_expectancy)) + \n",
    "    geom_point(size = 0.5) + \n",
    "    geom_smooth(method=\"lm\", se = FALSE) + \n",
    "    theme(text=element_text(size=15, face=\"bold\"))+\n",
    "    labs(title = \"Linear regression plot for Life Expectancy vs Schooling\", x=\"Schooling\", y=\"Life Expectancy\")\n",
    "\n",
    "plot6 <- le %>% ggplot(mapping = aes(percentage_expenditure, life_expectancy)) + \n",
    "    geom_point() + \n",
    "    geom_smooth(method=\"lm\", se = FALSE) + \n",
    "    theme(text=element_text(size=15, face=\"bold\"))+\n",
    "    labs(title = \"Linear regression plot for Life Expectancy vs Expenditure Percentage\", x=\"Expenditure Percentage\", y=\"Life Expectancy\")\n",
    "\n",
    "plot7 <- le %>% ggplot(mapping=aes(bmi,life_expectancy)) + \n",
    "    geom_point() + \n",
    "    geom_smooth(method=\"lm\", se = FALSE) + \n",
    "    theme(text=element_text(size=15, face=\"bold\"))+\n",
    "    labs(title = \"Linear regression plot for Life Expectancy vs BMI\", x=\"BMI\", y=\"Life Expectancy\")\n",
    "\n",
    "grid.arrange(plot1, plot2, plot3, plot4, plot5, plot6, plot7, nrow = 4)"
   ]
  },
  {
   "cell_type": "markdown",
   "id": "a39b4b48-327a-464d-be37-9f2d2f153051",
   "metadata": {},
   "source": [
    "From the graph above, gdp, hiv_aids, and percentage_expenditure seems to be mostly clustered along the lower end of the x-axis, with few points on the larger scale. For other four variables, points are mostly scattered apart along the regression line. We noticed that adult mortality have a strong linear association with life expectancy, but we are excluding this variable in later analysis since it is very similar to our response variable, both are measure of people's death, a variation of life expectancy, its strong correlation might effect the exploration on other possible predictor variables. For the same reason, we are also excluding infant_deaths and under_five_deaths, it is just a quantitative measurement of people with lower life expectancy. The country variable is not included as well since we are not considering life expectancy difference across countries and it cannot classify as a category variable.  "
   ]
  },
  {
   "cell_type": "markdown",
   "id": "7927a405-b92c-4bd1-816d-99f442f05924",
   "metadata": {},
   "source": [
    "### 2.3 Exploratory Data Analysis: Visualizations"
   ]
  },
  {
   "cell_type": "markdown",
   "id": "ac932a51-3f85-4590-92f3-24c6209f1d4b",
   "metadata": {},
   "source": [
    "First, we will start with exploring the distribution of life expectancy using a histogram. We can see from the graph below, the distribution is unimodel but not normal and it is slightly left-skewed. The mean year of life expectancy is slgihtly below 70, but there are above 200 people has life expectancy of 73 to 74 years. The graph below gives us a general view of the distribution of our response variable. "
   ]
  },
  {
   "cell_type": "code",
   "execution_count": null,
   "id": "463bba0a-8089-4884-b1cc-c0b5ecf1df4c",
   "metadata": {},
   "outputs": [],
   "source": [
    "options(repr.plot.width=9, repr.plot.height=7)\n",
    "le %>% ggplot(aes(x = life_expectancy)) + \n",
    "    geom_histogram(alpha = 2,color = \"black\", fill = \"#6d9ec1\") +\n",
    "    geom_vline(aes(xintercept=mean(life_expectancy)), color=\"blue\",\n",
    "             linetype=\"dashed\", lwd = 2)+\n",
    "    labs(title=\"Life Expectancy Histogram Plot\",x=\"Life Expectancy (years)\", y = \"Count\")+\n",
    "    theme(text=element_text(size=15, face = \"bold\"))"
   ]
  },
  {
   "cell_type": "markdown",
   "id": "15631f9d-d638-407a-902b-8f8f6372d740",
   "metadata": {},
   "source": [
    "Also using a Q-Q plot to check if this data set is a normal distribution, which is one of the assumptions for doing linear regression. The graph below shows that our data set is not very normally distributed, it is a bit tailed and left skew. "
   ]
  },
  {
   "cell_type": "code",
   "execution_count": null,
   "id": "08cf7a15-5680-4052-afb8-25a19bd17289",
   "metadata": {},
   "outputs": [],
   "source": [
    "qqnorm(le$life_expectancy)\n",
    "qqline(le$life_expectancy, col = \"steelblue\", lwd = 3)"
   ]
  },
  {
   "cell_type": "markdown",
   "id": "a8291dc5-0321-4c46-a519-fd57fbbeba33",
   "metadata": {},
   "source": [
    "Then we are exploring the relationship between Life Expectancy over the years from 2000 to 2015 according to country's developing status. From the graph below, the two lines of mean for both status showing an increasing trend, which means people have higher life expectancy on average in 2015 than 2000. We can also see a clear difference between developing countries and developed countires points, most of the data points are above 70 for developed country, while developing coutries' data points are mostly below 80. So considering this difference, we might need to include interaction terms in later analysis. "
   ]
  },
  {
   "cell_type": "code",
   "execution_count": null,
   "id": "0f4006c2-aed1-4e03-be9a-151771b8adef",
   "metadata": {
    "vscode": {
     "languageId": "r"
    }
   },
   "outputs": [],
   "source": [
    "options(repr.plot.width=9, repr.plot.height=7)\n",
    "le %>% ggplot(mapping=aes(year,life_expectancy, color=status)) + \n",
    "    geom_point() + \n",
    "    geom_smooth(method=\"lm\",se=FALSE) + \n",
    "    theme(plot.title=element_text(size=17, face = \"bold\"), \n",
    "        axis.title=element_text(size=15, face=\"bold\"), \n",
    "        legend.title = element_text(size = 15, face = \"bold\")) + \n",
    "    labs(title=\"Life Expectancy from 2000-2015\", x = \"Year\", y = \"Life Expectancy\") + \n",
    "    geom_jitter()"
   ]
  },
  {
   "cell_type": "markdown",
   "id": "998bfec0-2eed-4794-8209-df0981f90384",
   "metadata": {},
   "source": [
    "## 3. Methods"
   ]
  },
  {
   "cell_type": "markdown",
   "id": "34cbf058-6405-4f25-a3da-fe422db61f7c",
   "metadata": {},
   "source": [
    "- What methods do you plan on using?\n",
    "\n",
    "We will perform EDA to detect heteroscedasticity and remove multicollinearity. Afterwards, we will split the model into the training set and the testing set with a 75-25 split.\n",
    "\n",
    "Using the training set, we will perform a forward predictive modelling to and select our model depending on the model with the best Mallow's Cp/ BIC value. Using the same training set, we will create a linear model using the selected input variables in an additive model.\n",
    "\n",
    "Finally, we will evaluate the performance of the linear model using the testing set. \n",
    "\n",
    "- What do you expect to achieve?\n",
    "\n",
    "Through our analysis, we expect to see a strong relationship between the selected input variables that predict one’s life expectancy the best. We will be judging the relationship, as well as how good our model is, by the test RMSE that we obtain.\n",
    "\n",
    "- What impact could your results have?\n",
    "\n",
    "We hope that our results can be used by life insurance companies to fine tune their existing models, and help them better adjust the price of insurance plans depending on one’s expected life expectancy.\n",
    "\n"
   ]
  },
  {
   "cell_type": "markdown",
   "id": "25fcc959-5028-4649-8b5d-75fe58afa0df",
   "metadata": {},
   "source": [
    "## 4. References"
   ]
  },
  {
   "cell_type": "markdown",
   "id": "356b2c31-713f-4ea4-b16f-7a4dc2073da8",
   "metadata": {},
   "source": [
    "\n",
    "1. Passarino, Giuseppe, et al. “Human Longevity: Genetics or Lifestyle? It Takes Two to Tango.” Immunity &amp; Ageing : I &amp; A, BioMed Central, 5 Apr. 2016, https://www.ncbi.nlm.nih.gov/pmc/articles/PMC4822264/.\n",
    "2. “Social Security.” Actuarial Life Table, https://www.ssa.gov/oact/STATS/table4c6.html. \n",
    "3. KumarRajarshi. “Life Expectancy (WHO).” Kaggle, 10 Feb. 2018, https://www.kaggle.com/datasets/kumarajarshi/life-expectancy-who. \n",
    "4. Tiffany Timbers, Trevor Campbell. “Data Science.” Data Science, 24 Sept. 2022, https://datasciencebook.ca/. \n"
   ]
  }
 ],
 "metadata": {
  "kernelspec": {
   "display_name": "R",
   "language": "R",
   "name": "ir"
  },
  "language_info": {
   "codemirror_mode": "r",
   "file_extension": ".r",
   "mimetype": "text/x-r-source",
   "name": "R",
   "pygments_lexer": "r",
   "version": "4.1.3"
  }
 },
 "nbformat": 4,
 "nbformat_minor": 5
}
