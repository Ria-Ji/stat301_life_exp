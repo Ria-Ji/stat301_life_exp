{
 "cells": [
  {
   "cell_type": "markdown",
   "id": "6e683710-034c-4a18-b893-a197b4ea8c07",
   "metadata": {
    "tags": []
   },
   "source": [
    "## Life Expectancy Research\n",
    "**STAT 301  Project Proposal - Group 1  \n",
    "Date:         November 1, 2022**"
   ]
  },
  {
   "cell_type": "markdown",
   "id": "022513ab-6e49-4227-9789-b99a13d481a5",
   "metadata": {
    "tags": []
   },
   "source": [
    "## Introduction\n",
    "\n",
    "\n"
   ]
  },
  {
   "cell_type": "markdown",
   "id": "a1b1adc4-e481-4c15-bcf2-7037586242d2",
   "metadata": {
    "tags": []
   },
   "source": [
    "## Preliminary Results\n",
    "\n",
    "### Data Importing, Cleaning, and Wrangling\n",
    "  "
   ]
  },
  {
   "cell_type": "code",
   "execution_count": null,
   "id": "b2657616-34c5-456f-9352-eb4e2d499ba5",
   "metadata": {},
   "outputs": [],
   "source": []
  },
  {
   "cell_type": "markdown",
   "id": "a3373d6d-78ac-4241-8f0d-c5dd35eda993",
   "metadata": {
    "tags": []
   },
   "source": [
    "## Methods - Plan\n",
    "\n"
   ]
  },
  {
   "cell_type": "markdown",
   "id": "f4f36ad2-dbb3-4488-884e-ed337252d7e6",
   "metadata": {},
   "source": [
    "\n"
   ]
  },
  {
   "cell_type": "markdown",
   "id": "6d934998-7445-4e8d-b0e0-ccec61b6d78e",
   "metadata": {},
   "source": [
    "## Reference\n",
    "  \n",
    "  "
   ]
  }
 ],
 "metadata": {
  "kernelspec": {
   "display_name": "R",
   "language": "R",
   "name": "ir"
  },
  "language_info": {
   "codemirror_mode": "r",
   "file_extension": ".r",
   "mimetype": "text/x-r-source",
   "name": "R",
   "pygments_lexer": "r",
   "version": "4.1.3"
  }
 },
 "nbformat": 4,
 "nbformat_minor": 5
}
