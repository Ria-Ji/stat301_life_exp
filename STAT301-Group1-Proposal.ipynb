{
 "cells": [
  {
   "cell_type": "markdown",
   "id": "19eb4990-44f7-4a9e-9a09-6148bed75e7d",
   "metadata": {},
   "source": [
    "# <center> Proposal Plan </center>"
   ]
  },
  {
   "cell_type": "markdown",
   "id": "6bc58abd-7e3d-4d8a-8b80-6bf71c89a2a9",
   "metadata": {},
   "source": [
    "**Authors** Group 1, Proposal (Fiona Wang, Jack Fan, William Surya, Ria Ji)"
   ]
  },
  {
   "cell_type": "markdown",
   "id": "babaaebb-6ba2-4416-832a-db22f7109c04",
   "metadata": {},
   "source": [
    "**Abstract**   "
   ]
  },
  {
   "cell_type": "markdown",
   "id": "34465157-3d9d-4cb4-bbf1-fd2783675520",
   "metadata": {},
   "source": [
    "## 1. Introduction"
   ]
  },
  {
   "cell_type": "markdown",
   "id": "3ccb1657-8564-460d-9377-0894a09bd4f2",
   "metadata": {},
   "source": [
    "### 1.1 Background"
   ]
  },
  {
   "cell_type": "markdown",
   "id": "8d16b2d4-5a0e-461b-957c-0470388c61c6",
   "metadata": {},
   "source": [
    "Background information on the topic:\n",
    "\n",
    "A growing body of research suggests that a person's life expectancy may be affected by a number of essential external factors, including but not limited to alcohol consumption level(the rate of people in a country drinking alcohol or not), regional differences, developing or developed country, BMI(body mass index), population, schooling(the education level of the population).\n",
    "\n",
    "Because where people live and work, what kind of lifestyle they are having, big or small the population is(resources allocated per capita), and their educational level, all affect their health, further speaking, they will affect their life expectancy over time."
   ]
  },
  {
   "cell_type": "markdown",
   "id": "834dfa66-ee46-4fdb-b95d-d95bb49172c8",
   "metadata": {},
   "source": [
    "### 1.2 Question"
   ]
  },
  {
   "cell_type": "markdown",
   "id": "5d2bd223-1e97-422f-a53b-55bf52cdcf06",
   "metadata": {},
   "source": [
    "Through this group project, we wish to answer the question:  \n",
    "\n",
    "We want to determine which factors predicts one's' life expectancy the best, using forward/backward generative models, and then perform prediction of life expectancy using regression model. Life Expectancy vs Whatever Factors\n",
    "Additive/ Interaction model, multicollinearity\n",
    "Prediction using Linear Model\n",
    "Testing performance of model using training vs testing dataset\n",
    "\n",
    "What are the predicting variables actually affecting the life expectancy?"
   ]
  },
  {
   "cell_type": "markdown",
   "id": "f7cc785e-740c-4939-8f6d-6c4a29d7d59c",
   "metadata": {},
   "source": [
    "### 1.3 Dataset\n"
   ]
  },
  {
   "cell_type": "markdown",
   "id": "7f5d1e4e-9fb0-4fac-896d-182b96ace546",
   "metadata": {},
   "source": [
    "To answer the question mentioned above, we will use the Life Expectancy(WHO) Data Set. \n",
    "\n",
    "This dataset was collected from WHO and United Nations websites by Kumar Rajarshi, Deeksha Russell and Duan Wang. It is consist of a few predicting variables, which were mainly divided into several broad categories: Immunization related factors, Mortality factors, Economical factors and Social factors(Kumar., 2017)."
   ]
  },
  {
   "cell_type": "markdown",
   "id": "db2ff6c7-7bad-4e71-8d6b-97c15ce48c77",
   "metadata": {},
   "source": [
    "## 2. Preliminary Results"
   ]
  },
  {
   "cell_type": "code",
   "execution_count": 1,
   "id": "376d8fbe-3639-41c1-b24f-308dc93e24d2",
   "metadata": {},
   "outputs": [
    {
     "name": "stderr",
     "output_type": "stream",
     "text": [
      "Loading required package: ggplot2\n",
      "\n",
      "Registered S3 method overwritten by 'GGally':\n",
      "  method from   \n",
      "  +.gg   ggplot2\n",
      "\n",
      "\n",
      "Attaching package: ‘janitor’\n",
      "\n",
      "\n",
      "The following objects are masked from ‘package:stats’:\n",
      "\n",
      "    chisq.test, fisher.test\n",
      "\n",
      "\n",
      "── \u001b[1mAttaching packages\u001b[22m ─────────────────────────────────────── tidyverse 1.3.0 ──\n",
      "\n",
      "\u001b[32m✔\u001b[39m \u001b[34mtibble \u001b[39m 3.0.5     \u001b[32m✔\u001b[39m \u001b[34mdplyr  \u001b[39m 1.0.3\n",
      "\u001b[32m✔\u001b[39m \u001b[34mtidyr  \u001b[39m 1.1.2     \u001b[32m✔\u001b[39m \u001b[34mstringr\u001b[39m 1.4.0\n",
      "\u001b[32m✔\u001b[39m \u001b[34mreadr  \u001b[39m 1.4.0     \u001b[32m✔\u001b[39m \u001b[34mforcats\u001b[39m 0.5.0\n",
      "\u001b[32m✔\u001b[39m \u001b[34mpurrr  \u001b[39m 0.3.4     \n",
      "\n",
      "── \u001b[1mConflicts\u001b[22m ────────────────────────────────────────── tidyverse_conflicts() ──\n",
      "\u001b[31m✖\u001b[39m \u001b[34mdplyr\u001b[39m::\u001b[32marrange()\u001b[39m   masks \u001b[34mplyr\u001b[39m::arrange()\n",
      "\u001b[31m✖\u001b[39m \u001b[34mpurrr\u001b[39m::\u001b[32mcompact()\u001b[39m   masks \u001b[34mplyr\u001b[39m::compact()\n",
      "\u001b[31m✖\u001b[39m \u001b[34mdplyr\u001b[39m::\u001b[32mcount()\u001b[39m     masks \u001b[34mplyr\u001b[39m::count()\n",
      "\u001b[31m✖\u001b[39m \u001b[34mdplyr\u001b[39m::\u001b[32mfailwith()\u001b[39m  masks \u001b[34mplyr\u001b[39m::failwith()\n",
      "\u001b[31m✖\u001b[39m \u001b[34mdplyr\u001b[39m::\u001b[32mfilter()\u001b[39m    masks \u001b[34mstats\u001b[39m::filter()\n",
      "\u001b[31m✖\u001b[39m \u001b[34mdplyr\u001b[39m::\u001b[32mid()\u001b[39m        masks \u001b[34mplyr\u001b[39m::id()\n",
      "\u001b[31m✖\u001b[39m \u001b[34mdplyr\u001b[39m::\u001b[32mlag()\u001b[39m       masks \u001b[34mstats\u001b[39m::lag()\n",
      "\u001b[31m✖\u001b[39m \u001b[34mdplyr\u001b[39m::\u001b[32mmutate()\u001b[39m    masks \u001b[34mplyr\u001b[39m::mutate()\n",
      "\u001b[31m✖\u001b[39m \u001b[34mdplyr\u001b[39m::\u001b[32mrename()\u001b[39m    masks \u001b[34mplyr\u001b[39m::rename()\n",
      "\u001b[31m✖\u001b[39m \u001b[34mdplyr\u001b[39m::\u001b[32msummarise()\u001b[39m masks \u001b[34mplyr\u001b[39m::summarise()\n",
      "\u001b[31m✖\u001b[39m \u001b[34mdplyr\u001b[39m::\u001b[32msummarize()\u001b[39m masks \u001b[34mplyr\u001b[39m::summarize()\n",
      "\n"
     ]
    }
   ],
   "source": [
    "# install.packages(\"package_name\")\n",
    "# run this line of code to install the packages if they are not installed on your machine\n",
    "\n",
    "# Load required packages\n",
    "library(\"GGally\")\n",
    "library(\"ggplot2\")\n",
    "library(\"janitor\")\n",
    "library(\"plyr\")\n",
    "library(\"tidyverse\")"
   ]
  },
  {
   "cell_type": "markdown",
   "id": "25b78dc5-39d1-41c3-868f-76cf0e535ebf",
   "metadata": {},
   "source": [
    "We'll start by importing the dataset, loading it into a dataframe and inspecting the results. The original dataset can be found [here](https://www.kaggle.com/datasets/kumarajarshi/life-expectancy-who)."
   ]
  },
  {
   "cell_type": "code",
   "execution_count": 31,
   "id": "3b72640d-d971-408b-bc43-6e816d186b93",
   "metadata": {},
   "outputs": [],
   "source": [
    "data = read.csv(\"https://shorturl.at/FV478\") %>% clean_names()"
   ]
  },
  {
   "cell_type": "code",
   "execution_count": 36,
   "id": "c8140635-019d-42ff-bc37-f2c60a7321c3",
   "metadata": {},
   "outputs": [],
   "source": [
    "# In order to display all column names, we need to change the max # of cols displayed\n",
    "options(repr.matrix.max.cols=22, repr.matrix.max.rows=37)"
   ]
  },
  {
   "cell_type": "code",
   "execution_count": 33,
   "id": "4ade23e7-90c0-4cbe-b649-ccc2ce415b22",
   "metadata": {},
   "outputs": [
    {
     "name": "stdout",
     "output_type": "stream",
     "text": [
      "[1] \"there are 2938 rows in the data frame\"\n",
      "[1] \"there are 1649 rows in the data frame\"\n"
     ]
    }
   ],
   "source": [
    "# remove all NAs\n",
    "\n",
    "total_rows <- data %>% nrow()\n",
    "\n",
    "print(sprintf(\"there are %d rows in the data frame\",total_rows))\n",
    "\n",
    "data <- na.omit(data)\n",
    "\n",
    "print(sprintf(\"there are %d rows in the data frame\", nrow(data)))"
   ]
  },
  {
   "cell_type": "code",
   "execution_count": 34,
   "id": "8bb313c6-04b6-47c0-9fae-b4112fcc7a13",
   "metadata": {},
   "outputs": [
    {
     "data": {
      "text/html": [
       "<table class=\"dataframe\">\n",
       "<caption>A data.frame: 3 × 22</caption>\n",
       "<thead>\n",
       "\t<tr><th></th><th scope=col>country</th><th scope=col>year</th><th scope=col>status</th><th scope=col>life_expectancy</th><th scope=col>adult_mortality</th><th scope=col>infant_deaths</th><th scope=col>alcohol</th><th scope=col>percentage_expenditure</th><th scope=col>hepatitis_b</th><th scope=col>measles</th><th scope=col>bmi</th><th scope=col>under_five_deaths</th><th scope=col>polio</th><th scope=col>total_expenditure</th><th scope=col>diphtheria</th><th scope=col>hiv_aids</th><th scope=col>gdp</th><th scope=col>population</th><th scope=col>thinness_1_19_years</th><th scope=col>thinness_5_9_years</th><th scope=col>income_composition_of_resources</th><th scope=col>schooling</th></tr>\n",
       "\t<tr><th></th><th scope=col>&lt;fct&gt;</th><th scope=col>&lt;int&gt;</th><th scope=col>&lt;fct&gt;</th><th scope=col>&lt;dbl&gt;</th><th scope=col>&lt;int&gt;</th><th scope=col>&lt;int&gt;</th><th scope=col>&lt;dbl&gt;</th><th scope=col>&lt;dbl&gt;</th><th scope=col>&lt;int&gt;</th><th scope=col>&lt;int&gt;</th><th scope=col>&lt;dbl&gt;</th><th scope=col>&lt;int&gt;</th><th scope=col>&lt;int&gt;</th><th scope=col>&lt;dbl&gt;</th><th scope=col>&lt;int&gt;</th><th scope=col>&lt;dbl&gt;</th><th scope=col>&lt;dbl&gt;</th><th scope=col>&lt;dbl&gt;</th><th scope=col>&lt;dbl&gt;</th><th scope=col>&lt;dbl&gt;</th><th scope=col>&lt;dbl&gt;</th><th scope=col>&lt;dbl&gt;</th></tr>\n",
       "</thead>\n",
       "<tbody>\n",
       "\t<tr><th scope=row>2936</th><td>Zimbabwe</td><td>2002</td><td>Developing</td><td>44.8</td><td> 73</td><td>25</td><td>4.43</td><td>0</td><td>73</td><td> 304</td><td>26.3</td><td>40</td><td>73</td><td>6.53</td><td>71</td><td>39.8</td><td> 57.34834</td><td>  125525</td><td> 1.2</td><td> 1.3</td><td>0.427</td><td>10.0</td></tr>\n",
       "\t<tr><th scope=row>2937</th><td>Zimbabwe</td><td>2001</td><td>Developing</td><td>45.3</td><td>686</td><td>25</td><td>1.72</td><td>0</td><td>76</td><td> 529</td><td>25.9</td><td>39</td><td>76</td><td>6.16</td><td>75</td><td>42.1</td><td>548.58731</td><td>12366165</td><td> 1.6</td><td> 1.7</td><td>0.427</td><td> 9.8</td></tr>\n",
       "\t<tr><th scope=row>2938</th><td>Zimbabwe</td><td>2000</td><td>Developing</td><td>46.0</td><td>665</td><td>24</td><td>1.68</td><td>0</td><td>79</td><td>1483</td><td>25.5</td><td>39</td><td>78</td><td>7.10</td><td>78</td><td>43.5</td><td>547.35888</td><td>12222251</td><td>11.0</td><td>11.2</td><td>0.434</td><td> 9.8</td></tr>\n",
       "</tbody>\n",
       "</table>\n"
      ],
      "text/latex": [
       "A data.frame: 3 × 22\n",
       "\\begin{tabular}{r|llllllllllllllllllllll}\n",
       "  & country & year & status & life\\_expectancy & adult\\_mortality & infant\\_deaths & alcohol & percentage\\_expenditure & hepatitis\\_b & measles & bmi & under\\_five\\_deaths & polio & total\\_expenditure & diphtheria & hiv\\_aids & gdp & population & thinness\\_1\\_19\\_years & thinness\\_5\\_9\\_years & income\\_composition\\_of\\_resources & schooling\\\\\n",
       "  & <fct> & <int> & <fct> & <dbl> & <int> & <int> & <dbl> & <dbl> & <int> & <int> & <dbl> & <int> & <int> & <dbl> & <int> & <dbl> & <dbl> & <dbl> & <dbl> & <dbl> & <dbl> & <dbl>\\\\\n",
       "\\hline\n",
       "\t2936 & Zimbabwe & 2002 & Developing & 44.8 &  73 & 25 & 4.43 & 0 & 73 &  304 & 26.3 & 40 & 73 & 6.53 & 71 & 39.8 &  57.34834 &   125525 &  1.2 &  1.3 & 0.427 & 10.0\\\\\n",
       "\t2937 & Zimbabwe & 2001 & Developing & 45.3 & 686 & 25 & 1.72 & 0 & 76 &  529 & 25.9 & 39 & 76 & 6.16 & 75 & 42.1 & 548.58731 & 12366165 &  1.6 &  1.7 & 0.427 &  9.8\\\\\n",
       "\t2938 & Zimbabwe & 2000 & Developing & 46.0 & 665 & 24 & 1.68 & 0 & 79 & 1483 & 25.5 & 39 & 78 & 7.10 & 78 & 43.5 & 547.35888 & 12222251 & 11.0 & 11.2 & 0.434 &  9.8\\\\\n",
       "\\end{tabular}\n"
      ],
      "text/markdown": [
       "\n",
       "A data.frame: 3 × 22\n",
       "\n",
       "| <!--/--> | country &lt;fct&gt; | year &lt;int&gt; | status &lt;fct&gt; | life_expectancy &lt;dbl&gt; | adult_mortality &lt;int&gt; | infant_deaths &lt;int&gt; | alcohol &lt;dbl&gt; | percentage_expenditure &lt;dbl&gt; | hepatitis_b &lt;int&gt; | measles &lt;int&gt; | bmi &lt;dbl&gt; | under_five_deaths &lt;int&gt; | polio &lt;int&gt; | total_expenditure &lt;dbl&gt; | diphtheria &lt;int&gt; | hiv_aids &lt;dbl&gt; | gdp &lt;dbl&gt; | population &lt;dbl&gt; | thinness_1_19_years &lt;dbl&gt; | thinness_5_9_years &lt;dbl&gt; | income_composition_of_resources &lt;dbl&gt; | schooling &lt;dbl&gt; |\n",
       "|---|---|---|---|---|---|---|---|---|---|---|---|---|---|---|---|---|---|---|---|---|---|---|\n",
       "| 2936 | Zimbabwe | 2002 | Developing | 44.8 |  73 | 25 | 4.43 | 0 | 73 |  304 | 26.3 | 40 | 73 | 6.53 | 71 | 39.8 |  57.34834 |   125525 |  1.2 |  1.3 | 0.427 | 10.0 |\n",
       "| 2937 | Zimbabwe | 2001 | Developing | 45.3 | 686 | 25 | 1.72 | 0 | 76 |  529 | 25.9 | 39 | 76 | 6.16 | 75 | 42.1 | 548.58731 | 12366165 |  1.6 |  1.7 | 0.427 |  9.8 |\n",
       "| 2938 | Zimbabwe | 2000 | Developing | 46.0 | 665 | 24 | 1.68 | 0 | 79 | 1483 | 25.5 | 39 | 78 | 7.10 | 78 | 43.5 | 547.35888 | 12222251 | 11.0 | 11.2 | 0.434 |  9.8 |\n",
       "\n"
      ],
      "text/plain": [
       "     country  year status     life_expectancy adult_mortality infant_deaths\n",
       "2936 Zimbabwe 2002 Developing 44.8             73             25           \n",
       "2937 Zimbabwe 2001 Developing 45.3            686             25           \n",
       "2938 Zimbabwe 2000 Developing 46.0            665             24           \n",
       "     alcohol percentage_expenditure hepatitis_b measles bmi  under_five_deaths\n",
       "2936 4.43    0                      73           304    26.3 40               \n",
       "2937 1.72    0                      76           529    25.9 39               \n",
       "2938 1.68    0                      79          1483    25.5 39               \n",
       "     polio total_expenditure diphtheria hiv_aids gdp       population\n",
       "2936 73    6.53              71         39.8      57.34834   125525  \n",
       "2937 76    6.16              75         42.1     548.58731 12366165  \n",
       "2938 78    7.10              78         43.5     547.35888 12222251  \n",
       "     thinness_1_19_years thinness_5_9_years income_composition_of_resources\n",
       "2936  1.2                 1.3               0.427                          \n",
       "2937  1.6                 1.7               0.427                          \n",
       "2938 11.0                11.2               0.434                          \n",
       "     schooling\n",
       "2936 10.0     \n",
       "2937  9.8     \n",
       "2938  9.8     "
      ]
     },
     "metadata": {},
     "output_type": "display_data"
    }
   ],
   "source": [
    "data = data %>%     \n",
    "    mutate(country = as_factor(country)) %>%\n",
    "    mutate(status = as_factor(status))\n",
    "tail(data, n = 3)"
   ]
  },
  {
   "cell_type": "code",
   "execution_count": 37,
   "id": "ed4799b3-e72e-4d14-8b5f-fa51e95426ec",
   "metadata": {},
   "outputs": [
    {
     "data": {
      "text/html": [
       "<table class=\"dataframe\">\n",
       "<caption>A matrix: 20 × 20 of type dbl</caption>\n",
       "<thead>\n",
       "\t<tr><th></th><th scope=col>year</th><th scope=col>life_expectancy</th><th scope=col>adult_mortality</th><th scope=col>infant_deaths</th><th scope=col>alcohol</th><th scope=col>percentage_expenditure</th><th scope=col>hepatitis_b</th><th scope=col>measles</th><th scope=col>bmi</th><th scope=col>under_five_deaths</th><th scope=col>polio</th><th scope=col>total_expenditure</th><th scope=col>diphtheria</th><th scope=col>hiv_aids</th><th scope=col>gdp</th><th scope=col>population</th><th scope=col>thinness_1_19_years</th><th scope=col>thinness_5_9_years</th><th scope=col>income_composition_of_resources</th><th scope=col>schooling</th></tr>\n",
       "</thead>\n",
       "<tbody>\n",
       "\t<tr><th scope=row>year</th><td> 1.000000000</td><td> 0.05077103</td><td>-0.037091782</td><td> 0.008029128</td><td>-0.11336476</td><td> 0.06955347</td><td> 0.11489709</td><td>-0.053822046</td><td> 0.005739061</td><td> 0.01047859</td><td>-0.01669880</td><td> 0.05949278</td><td> 0.02964059</td><td>-0.123404990</td><td> 0.09642148</td><td> 0.012566893</td><td> 0.01975661</td><td> 0.01412242</td><td> 0.122891780</td><td> 0.08873179</td></tr>\n",
       "\t<tr><th scope=row>life_expectancy</th><td> 0.050771035</td><td> 1.00000000</td><td>-0.702523062</td><td>-0.169073804</td><td> 0.40271832</td><td> 0.40963082</td><td> 0.19993528</td><td>-0.068881222</td><td> 0.542041588</td><td>-0.19226530</td><td> 0.32729440</td><td> 0.17471764</td><td> 0.34133123</td><td>-0.592236293</td><td> 0.44132181</td><td>-0.022304978</td><td>-0.45783819</td><td>-0.45750829</td><td> 0.721082593</td><td> 0.72763003</td></tr>\n",
       "\t<tr><th scope=row>adult_mortality</th><td>-0.037091782</td><td>-0.70252306</td><td> 1.000000000</td><td> 0.042450237</td><td>-0.17553509</td><td>-0.23760989</td><td>-0.10522544</td><td>-0.003966685</td><td>-0.351542478</td><td> 0.06036503</td><td>-0.19985300</td><td>-0.08522653</td><td>-0.19142876</td><td> 0.550690745</td><td>-0.25503473</td><td>-0.015011838</td><td> 0.27223004</td><td> 0.28672288</td><td>-0.442203288</td><td>-0.42117052</td></tr>\n",
       "\t<tr><th scope=row>infant_deaths</th><td> 0.008029128</td><td>-0.16907380</td><td> 0.042450237</td><td> 1.000000000</td><td>-0.10621692</td><td>-0.09076463</td><td>-0.23176894</td><td> 0.532679832</td><td>-0.234425154</td><td> 0.99690562</td><td>-0.15692881</td><td>-0.14695112</td><td>-0.16187100</td><td> 0.007711547</td><td>-0.09809202</td><td> 0.671758310</td><td> 0.46341526</td><td> 0.46190792</td><td>-0.134753863</td><td>-0.21437190</td></tr>\n",
       "\t<tr><th scope=row>alcohol</th><td>-0.113364764</td><td> 0.40271832</td><td>-0.175535086</td><td>-0.106216917</td><td> 1.00000000</td><td> 0.41704736</td><td> 0.10988939</td><td>-0.050110235</td><td> 0.353396205</td><td>-0.10108216</td><td> 0.24031453</td><td> 0.21488509</td><td> 0.24295143</td><td>-0.027112636</td><td> 0.44343279</td><td>-0.028880232</td><td>-0.40375499</td><td>-0.38620819</td><td> 0.561074332</td><td> 0.61697481</td></tr>\n",
       "\t<tr><th scope=row>percentage_expenditure</th><td> 0.069553468</td><td> 0.40963082</td><td>-0.237609890</td><td>-0.090764632</td><td> 0.41704736</td><td> 1.00000000</td><td> 0.01676017</td><td>-0.063070789</td><td> 0.242738243</td><td>-0.09215806</td><td> 0.12862605</td><td> 0.18387236</td><td> 0.13481324</td><td>-0.095084991</td><td> 0.95929886</td><td>-0.016792141</td><td>-0.25503460</td><td>-0.25563544</td><td> 0.402169736</td><td> 0.42208845</td></tr>\n",
       "\t<tr><th scope=row>hepatitis_b</th><td> 0.114897092</td><td> 0.19993528</td><td>-0.105225443</td><td>-0.231768937</td><td> 0.10988939</td><td> 0.01676017</td><td> 1.00000000</td><td>-0.124799993</td><td> 0.143301786</td><td>-0.24076603</td><td> 0.46333080</td><td> 0.11332668</td><td> 0.58898993</td><td>-0.094801971</td><td> 0.04184950</td><td>-0.129722655</td><td>-0.12940595</td><td>-0.13325099</td><td> 0.184920970</td><td> 0.21518159</td></tr>\n",
       "\t<tr><th scope=row>measles</th><td>-0.053822046</td><td>-0.06888122</td><td>-0.003966685</td><td> 0.532679832</td><td>-0.05011023</td><td>-0.06307079</td><td>-0.12479999</td><td> 1.000000000</td><td>-0.153245464</td><td> 0.51750556</td><td>-0.05785013</td><td>-0.11358274</td><td>-0.05860591</td><td>-0.003521854</td><td>-0.06476759</td><td> 0.321946377</td><td> 0.18064151</td><td> 0.17494622</td><td>-0.058277256</td><td>-0.11566048</td></tr>\n",
       "\t<tr><th scope=row>bmi</th><td> 0.005739061</td><td> 0.54204159</td><td>-0.351542478</td><td>-0.234425154</td><td> 0.35339621</td><td> 0.24273824</td><td> 0.14330179</td><td>-0.153245464</td><td> 1.000000000</td><td>-0.24213740</td><td> 0.18626797</td><td> 0.18946896</td><td> 0.17629450</td><td>-0.210896746</td><td> 0.26611397</td><td>-0.081415982</td><td>-0.54701751</td><td>-0.55409398</td><td> 0.510504831</td><td> 0.55484390</td></tr>\n",
       "\t<tr><th scope=row>under_five_deaths</th><td> 0.010478594</td><td>-0.19226530</td><td> 0.060365026</td><td> 0.996905622</td><td>-0.10108216</td><td>-0.09215806</td><td>-0.24076603</td><td> 0.517505563</td><td>-0.242137398</td><td> 1.00000000</td><td>-0.17116419</td><td>-0.14580310</td><td>-0.17844819</td><td> 0.019475927</td><td>-0.10033126</td><td> 0.658679691</td><td> 0.46478470</td><td> 0.46228938</td><td>-0.148097276</td><td>-0.22601262</td></tr>\n",
       "\t<tr><th scope=row>polio</th><td>-0.016698803</td><td> 0.32729440</td><td>-0.199853000</td><td>-0.156928805</td><td> 0.24031453</td><td> 0.12862605</td><td> 0.46333080</td><td>-0.057850133</td><td> 0.186267965</td><td>-0.17116419</td><td> 1.00000000</td><td> 0.11976798</td><td> 0.60924547</td><td>-0.107885468</td><td> 0.15680869</td><td>-0.045386572</td><td>-0.16406959</td><td>-0.17448925</td><td> 0.314681594</td><td> 0.35014660</td></tr>\n",
       "\t<tr><th scope=row>total_expenditure</th><td> 0.059492777</td><td> 0.17471764</td><td>-0.085226535</td><td>-0.146951117</td><td> 0.21488509</td><td> 0.18387236</td><td> 0.11332668</td><td>-0.113582738</td><td> 0.189468964</td><td>-0.14580310</td><td> 0.11976798</td><td> 1.00000000</td><td> 0.12991481</td><td> 0.043100657</td><td> 0.18037347</td><td>-0.079962237</td><td>-0.20987232</td><td>-0.21786479</td><td> 0.183653190</td><td> 0.24378345</td></tr>\n",
       "\t<tr><th scope=row>diphtheria</th><td> 0.029640586</td><td> 0.34133123</td><td>-0.191428759</td><td>-0.161871004</td><td> 0.24295143</td><td> 0.13481324</td><td> 0.58898993</td><td>-0.058605907</td><td> 0.176294503</td><td>-0.17844819</td><td> 0.60924547</td><td> 0.12991481</td><td> 1.00000000</td><td>-0.117601074</td><td> 0.15843774</td><td>-0.039897537</td><td>-0.18724165</td><td>-0.18095238</td><td> 0.343261772</td><td> 0.35039793</td></tr>\n",
       "\t<tr><th scope=row>hiv_aids</th><td>-0.123404990</td><td>-0.59223629</td><td> 0.550690745</td><td> 0.007711547</td><td>-0.02711264</td><td>-0.09508499</td><td>-0.09480197</td><td>-0.003521854</td><td>-0.210896746</td><td> 0.01947593</td><td>-0.10788547</td><td> 0.04310066</td><td>-0.11760107</td><td> 1.000000000</td><td>-0.10808060</td><td>-0.027800562</td><td> 0.17259177</td><td> 0.18314673</td><td>-0.248589855</td><td>-0.21184020</td></tr>\n",
       "\t<tr><th scope=row>gdp</th><td> 0.096421485</td><td> 0.44132181</td><td>-0.255034733</td><td>-0.098092020</td><td> 0.44343279</td><td> 0.95929886</td><td> 0.04184950</td><td>-0.064767590</td><td> 0.266113973</td><td>-0.10033126</td><td> 0.15680869</td><td> 0.18037347</td><td> 0.15843774</td><td>-0.108080600</td><td> 1.00000000</td><td>-0.020368964</td><td>-0.27749835</td><td>-0.27795855</td><td> 0.446855511</td><td> 0.46794697</td></tr>\n",
       "\t<tr><th scope=row>population</th><td> 0.012566893</td><td>-0.02230498</td><td>-0.015011838</td><td> 0.671758310</td><td>-0.02888023</td><td>-0.01679214</td><td>-0.12972265</td><td> 0.321946377</td><td>-0.081415982</td><td> 0.65867969</td><td>-0.04538657</td><td>-0.07996224</td><td>-0.03989754</td><td>-0.027800562</td><td>-0.02036896</td><td> 1.000000000</td><td> 0.28252928</td><td> 0.27791337</td><td>-0.008132466</td><td>-0.04031242</td></tr>\n",
       "\t<tr><th scope=row>thinness_1_19_years</th><td> 0.019756611</td><td>-0.45783819</td><td> 0.272230044</td><td> 0.463415256</td><td>-0.40375499</td><td>-0.25503460</td><td>-0.12940595</td><td> 0.180641506</td><td>-0.547017514</td><td> 0.46478470</td><td>-0.16406959</td><td>-0.20987232</td><td>-0.18724165</td><td> 0.172591767</td><td>-0.27749835</td><td> 0.282529280</td><td> 1.00000000</td><td> 0.92791344</td><td>-0.453678854</td><td>-0.49119921</td></tr>\n",
       "\t<tr><th scope=row>thinness_5_9_years</th><td> 0.014122422</td><td>-0.45750829</td><td> 0.286722882</td><td> 0.461907925</td><td>-0.38620819</td><td>-0.25563544</td><td>-0.13325099</td><td> 0.174946217</td><td>-0.554093981</td><td> 0.46228938</td><td>-0.17448925</td><td>-0.21786479</td><td>-0.18095238</td><td> 0.183146727</td><td>-0.27795855</td><td> 0.277913374</td><td> 0.92791344</td><td> 1.00000000</td><td>-0.438483721</td><td>-0.47248203</td></tr>\n",
       "\t<tr><th scope=row>income_composition_of_resources</th><td> 0.122891780</td><td> 0.72108259</td><td>-0.442203288</td><td>-0.134753863</td><td> 0.56107433</td><td> 0.40216974</td><td> 0.18492097</td><td>-0.058277256</td><td> 0.510504831</td><td>-0.14809728</td><td> 0.31468159</td><td> 0.18365319</td><td> 0.34326177</td><td>-0.248589855</td><td> 0.44685551</td><td>-0.008132466</td><td>-0.45367885</td><td>-0.43848372</td><td> 1.000000000</td><td> 0.78474058</td></tr>\n",
       "\t<tr><th scope=row>schooling</th><td> 0.088731787</td><td> 0.72763003</td><td>-0.421170523</td><td>-0.214371900</td><td> 0.61697481</td><td> 0.42208845</td><td> 0.21518159</td><td>-0.115660481</td><td> 0.554843903</td><td>-0.22601262</td><td> 0.35014660</td><td> 0.24378345</td><td> 0.35039793</td><td>-0.211840201</td><td> 0.46794697</td><td>-0.040312419</td><td>-0.49119921</td><td>-0.47248203</td><td> 0.784740581</td><td> 1.00000000</td></tr>\n",
       "</tbody>\n",
       "</table>\n"
      ],
      "text/latex": [
       "A matrix: 20 × 20 of type dbl\n",
       "\\begin{tabular}{r|llllllllllllllllllll}\n",
       "  & year & life\\_expectancy & adult\\_mortality & infant\\_deaths & alcohol & percentage\\_expenditure & hepatitis\\_b & measles & bmi & under\\_five\\_deaths & polio & total\\_expenditure & diphtheria & hiv\\_aids & gdp & population & thinness\\_1\\_19\\_years & thinness\\_5\\_9\\_years & income\\_composition\\_of\\_resources & schooling\\\\\n",
       "\\hline\n",
       "\tyear &  1.000000000 &  0.05077103 & -0.037091782 &  0.008029128 & -0.11336476 &  0.06955347 &  0.11489709 & -0.053822046 &  0.005739061 &  0.01047859 & -0.01669880 &  0.05949278 &  0.02964059 & -0.123404990 &  0.09642148 &  0.012566893 &  0.01975661 &  0.01412242 &  0.122891780 &  0.08873179\\\\\n",
       "\tlife\\_expectancy &  0.050771035 &  1.00000000 & -0.702523062 & -0.169073804 &  0.40271832 &  0.40963082 &  0.19993528 & -0.068881222 &  0.542041588 & -0.19226530 &  0.32729440 &  0.17471764 &  0.34133123 & -0.592236293 &  0.44132181 & -0.022304978 & -0.45783819 & -0.45750829 &  0.721082593 &  0.72763003\\\\\n",
       "\tadult\\_mortality & -0.037091782 & -0.70252306 &  1.000000000 &  0.042450237 & -0.17553509 & -0.23760989 & -0.10522544 & -0.003966685 & -0.351542478 &  0.06036503 & -0.19985300 & -0.08522653 & -0.19142876 &  0.550690745 & -0.25503473 & -0.015011838 &  0.27223004 &  0.28672288 & -0.442203288 & -0.42117052\\\\\n",
       "\tinfant\\_deaths &  0.008029128 & -0.16907380 &  0.042450237 &  1.000000000 & -0.10621692 & -0.09076463 & -0.23176894 &  0.532679832 & -0.234425154 &  0.99690562 & -0.15692881 & -0.14695112 & -0.16187100 &  0.007711547 & -0.09809202 &  0.671758310 &  0.46341526 &  0.46190792 & -0.134753863 & -0.21437190\\\\\n",
       "\talcohol & -0.113364764 &  0.40271832 & -0.175535086 & -0.106216917 &  1.00000000 &  0.41704736 &  0.10988939 & -0.050110235 &  0.353396205 & -0.10108216 &  0.24031453 &  0.21488509 &  0.24295143 & -0.027112636 &  0.44343279 & -0.028880232 & -0.40375499 & -0.38620819 &  0.561074332 &  0.61697481\\\\\n",
       "\tpercentage\\_expenditure &  0.069553468 &  0.40963082 & -0.237609890 & -0.090764632 &  0.41704736 &  1.00000000 &  0.01676017 & -0.063070789 &  0.242738243 & -0.09215806 &  0.12862605 &  0.18387236 &  0.13481324 & -0.095084991 &  0.95929886 & -0.016792141 & -0.25503460 & -0.25563544 &  0.402169736 &  0.42208845\\\\\n",
       "\thepatitis\\_b &  0.114897092 &  0.19993528 & -0.105225443 & -0.231768937 &  0.10988939 &  0.01676017 &  1.00000000 & -0.124799993 &  0.143301786 & -0.24076603 &  0.46333080 &  0.11332668 &  0.58898993 & -0.094801971 &  0.04184950 & -0.129722655 & -0.12940595 & -0.13325099 &  0.184920970 &  0.21518159\\\\\n",
       "\tmeasles & -0.053822046 & -0.06888122 & -0.003966685 &  0.532679832 & -0.05011023 & -0.06307079 & -0.12479999 &  1.000000000 & -0.153245464 &  0.51750556 & -0.05785013 & -0.11358274 & -0.05860591 & -0.003521854 & -0.06476759 &  0.321946377 &  0.18064151 &  0.17494622 & -0.058277256 & -0.11566048\\\\\n",
       "\tbmi &  0.005739061 &  0.54204159 & -0.351542478 & -0.234425154 &  0.35339621 &  0.24273824 &  0.14330179 & -0.153245464 &  1.000000000 & -0.24213740 &  0.18626797 &  0.18946896 &  0.17629450 & -0.210896746 &  0.26611397 & -0.081415982 & -0.54701751 & -0.55409398 &  0.510504831 &  0.55484390\\\\\n",
       "\tunder\\_five\\_deaths &  0.010478594 & -0.19226530 &  0.060365026 &  0.996905622 & -0.10108216 & -0.09215806 & -0.24076603 &  0.517505563 & -0.242137398 &  1.00000000 & -0.17116419 & -0.14580310 & -0.17844819 &  0.019475927 & -0.10033126 &  0.658679691 &  0.46478470 &  0.46228938 & -0.148097276 & -0.22601262\\\\\n",
       "\tpolio & -0.016698803 &  0.32729440 & -0.199853000 & -0.156928805 &  0.24031453 &  0.12862605 &  0.46333080 & -0.057850133 &  0.186267965 & -0.17116419 &  1.00000000 &  0.11976798 &  0.60924547 & -0.107885468 &  0.15680869 & -0.045386572 & -0.16406959 & -0.17448925 &  0.314681594 &  0.35014660\\\\\n",
       "\ttotal\\_expenditure &  0.059492777 &  0.17471764 & -0.085226535 & -0.146951117 &  0.21488509 &  0.18387236 &  0.11332668 & -0.113582738 &  0.189468964 & -0.14580310 &  0.11976798 &  1.00000000 &  0.12991481 &  0.043100657 &  0.18037347 & -0.079962237 & -0.20987232 & -0.21786479 &  0.183653190 &  0.24378345\\\\\n",
       "\tdiphtheria &  0.029640586 &  0.34133123 & -0.191428759 & -0.161871004 &  0.24295143 &  0.13481324 &  0.58898993 & -0.058605907 &  0.176294503 & -0.17844819 &  0.60924547 &  0.12991481 &  1.00000000 & -0.117601074 &  0.15843774 & -0.039897537 & -0.18724165 & -0.18095238 &  0.343261772 &  0.35039793\\\\\n",
       "\thiv\\_aids & -0.123404990 & -0.59223629 &  0.550690745 &  0.007711547 & -0.02711264 & -0.09508499 & -0.09480197 & -0.003521854 & -0.210896746 &  0.01947593 & -0.10788547 &  0.04310066 & -0.11760107 &  1.000000000 & -0.10808060 & -0.027800562 &  0.17259177 &  0.18314673 & -0.248589855 & -0.21184020\\\\\n",
       "\tgdp &  0.096421485 &  0.44132181 & -0.255034733 & -0.098092020 &  0.44343279 &  0.95929886 &  0.04184950 & -0.064767590 &  0.266113973 & -0.10033126 &  0.15680869 &  0.18037347 &  0.15843774 & -0.108080600 &  1.00000000 & -0.020368964 & -0.27749835 & -0.27795855 &  0.446855511 &  0.46794697\\\\\n",
       "\tpopulation &  0.012566893 & -0.02230498 & -0.015011838 &  0.671758310 & -0.02888023 & -0.01679214 & -0.12972265 &  0.321946377 & -0.081415982 &  0.65867969 & -0.04538657 & -0.07996224 & -0.03989754 & -0.027800562 & -0.02036896 &  1.000000000 &  0.28252928 &  0.27791337 & -0.008132466 & -0.04031242\\\\\n",
       "\tthinness\\_1\\_19\\_years &  0.019756611 & -0.45783819 &  0.272230044 &  0.463415256 & -0.40375499 & -0.25503460 & -0.12940595 &  0.180641506 & -0.547017514 &  0.46478470 & -0.16406959 & -0.20987232 & -0.18724165 &  0.172591767 & -0.27749835 &  0.282529280 &  1.00000000 &  0.92791344 & -0.453678854 & -0.49119921\\\\\n",
       "\tthinness\\_5\\_9\\_years &  0.014122422 & -0.45750829 &  0.286722882 &  0.461907925 & -0.38620819 & -0.25563544 & -0.13325099 &  0.174946217 & -0.554093981 &  0.46228938 & -0.17448925 & -0.21786479 & -0.18095238 &  0.183146727 & -0.27795855 &  0.277913374 &  0.92791344 &  1.00000000 & -0.438483721 & -0.47248203\\\\\n",
       "\tincome\\_composition\\_of\\_resources &  0.122891780 &  0.72108259 & -0.442203288 & -0.134753863 &  0.56107433 &  0.40216974 &  0.18492097 & -0.058277256 &  0.510504831 & -0.14809728 &  0.31468159 &  0.18365319 &  0.34326177 & -0.248589855 &  0.44685551 & -0.008132466 & -0.45367885 & -0.43848372 &  1.000000000 &  0.78474058\\\\\n",
       "\tschooling &  0.088731787 &  0.72763003 & -0.421170523 & -0.214371900 &  0.61697481 &  0.42208845 &  0.21518159 & -0.115660481 &  0.554843903 & -0.22601262 &  0.35014660 &  0.24378345 &  0.35039793 & -0.211840201 &  0.46794697 & -0.040312419 & -0.49119921 & -0.47248203 &  0.784740581 &  1.00000000\\\\\n",
       "\\end{tabular}\n"
      ],
      "text/markdown": [
       "\n",
       "A matrix: 20 × 20 of type dbl\n",
       "\n",
       "| <!--/--> | year | life_expectancy | adult_mortality | infant_deaths | alcohol | percentage_expenditure | hepatitis_b | measles | bmi | under_five_deaths | polio | total_expenditure | diphtheria | hiv_aids | gdp | population | thinness_1_19_years | thinness_5_9_years | income_composition_of_resources | schooling |\n",
       "|---|---|---|---|---|---|---|---|---|---|---|---|---|---|---|---|---|---|---|---|---|\n",
       "| year |  1.000000000 |  0.05077103 | -0.037091782 |  0.008029128 | -0.11336476 |  0.06955347 |  0.11489709 | -0.053822046 |  0.005739061 |  0.01047859 | -0.01669880 |  0.05949278 |  0.02964059 | -0.123404990 |  0.09642148 |  0.012566893 |  0.01975661 |  0.01412242 |  0.122891780 |  0.08873179 |\n",
       "| life_expectancy |  0.050771035 |  1.00000000 | -0.702523062 | -0.169073804 |  0.40271832 |  0.40963082 |  0.19993528 | -0.068881222 |  0.542041588 | -0.19226530 |  0.32729440 |  0.17471764 |  0.34133123 | -0.592236293 |  0.44132181 | -0.022304978 | -0.45783819 | -0.45750829 |  0.721082593 |  0.72763003 |\n",
       "| adult_mortality | -0.037091782 | -0.70252306 |  1.000000000 |  0.042450237 | -0.17553509 | -0.23760989 | -0.10522544 | -0.003966685 | -0.351542478 |  0.06036503 | -0.19985300 | -0.08522653 | -0.19142876 |  0.550690745 | -0.25503473 | -0.015011838 |  0.27223004 |  0.28672288 | -0.442203288 | -0.42117052 |\n",
       "| infant_deaths |  0.008029128 | -0.16907380 |  0.042450237 |  1.000000000 | -0.10621692 | -0.09076463 | -0.23176894 |  0.532679832 | -0.234425154 |  0.99690562 | -0.15692881 | -0.14695112 | -0.16187100 |  0.007711547 | -0.09809202 |  0.671758310 |  0.46341526 |  0.46190792 | -0.134753863 | -0.21437190 |\n",
       "| alcohol | -0.113364764 |  0.40271832 | -0.175535086 | -0.106216917 |  1.00000000 |  0.41704736 |  0.10988939 | -0.050110235 |  0.353396205 | -0.10108216 |  0.24031453 |  0.21488509 |  0.24295143 | -0.027112636 |  0.44343279 | -0.028880232 | -0.40375499 | -0.38620819 |  0.561074332 |  0.61697481 |\n",
       "| percentage_expenditure |  0.069553468 |  0.40963082 | -0.237609890 | -0.090764632 |  0.41704736 |  1.00000000 |  0.01676017 | -0.063070789 |  0.242738243 | -0.09215806 |  0.12862605 |  0.18387236 |  0.13481324 | -0.095084991 |  0.95929886 | -0.016792141 | -0.25503460 | -0.25563544 |  0.402169736 |  0.42208845 |\n",
       "| hepatitis_b |  0.114897092 |  0.19993528 | -0.105225443 | -0.231768937 |  0.10988939 |  0.01676017 |  1.00000000 | -0.124799993 |  0.143301786 | -0.24076603 |  0.46333080 |  0.11332668 |  0.58898993 | -0.094801971 |  0.04184950 | -0.129722655 | -0.12940595 | -0.13325099 |  0.184920970 |  0.21518159 |\n",
       "| measles | -0.053822046 | -0.06888122 | -0.003966685 |  0.532679832 | -0.05011023 | -0.06307079 | -0.12479999 |  1.000000000 | -0.153245464 |  0.51750556 | -0.05785013 | -0.11358274 | -0.05860591 | -0.003521854 | -0.06476759 |  0.321946377 |  0.18064151 |  0.17494622 | -0.058277256 | -0.11566048 |\n",
       "| bmi |  0.005739061 |  0.54204159 | -0.351542478 | -0.234425154 |  0.35339621 |  0.24273824 |  0.14330179 | -0.153245464 |  1.000000000 | -0.24213740 |  0.18626797 |  0.18946896 |  0.17629450 | -0.210896746 |  0.26611397 | -0.081415982 | -0.54701751 | -0.55409398 |  0.510504831 |  0.55484390 |\n",
       "| under_five_deaths |  0.010478594 | -0.19226530 |  0.060365026 |  0.996905622 | -0.10108216 | -0.09215806 | -0.24076603 |  0.517505563 | -0.242137398 |  1.00000000 | -0.17116419 | -0.14580310 | -0.17844819 |  0.019475927 | -0.10033126 |  0.658679691 |  0.46478470 |  0.46228938 | -0.148097276 | -0.22601262 |\n",
       "| polio | -0.016698803 |  0.32729440 | -0.199853000 | -0.156928805 |  0.24031453 |  0.12862605 |  0.46333080 | -0.057850133 |  0.186267965 | -0.17116419 |  1.00000000 |  0.11976798 |  0.60924547 | -0.107885468 |  0.15680869 | -0.045386572 | -0.16406959 | -0.17448925 |  0.314681594 |  0.35014660 |\n",
       "| total_expenditure |  0.059492777 |  0.17471764 | -0.085226535 | -0.146951117 |  0.21488509 |  0.18387236 |  0.11332668 | -0.113582738 |  0.189468964 | -0.14580310 |  0.11976798 |  1.00000000 |  0.12991481 |  0.043100657 |  0.18037347 | -0.079962237 | -0.20987232 | -0.21786479 |  0.183653190 |  0.24378345 |\n",
       "| diphtheria |  0.029640586 |  0.34133123 | -0.191428759 | -0.161871004 |  0.24295143 |  0.13481324 |  0.58898993 | -0.058605907 |  0.176294503 | -0.17844819 |  0.60924547 |  0.12991481 |  1.00000000 | -0.117601074 |  0.15843774 | -0.039897537 | -0.18724165 | -0.18095238 |  0.343261772 |  0.35039793 |\n",
       "| hiv_aids | -0.123404990 | -0.59223629 |  0.550690745 |  0.007711547 | -0.02711264 | -0.09508499 | -0.09480197 | -0.003521854 | -0.210896746 |  0.01947593 | -0.10788547 |  0.04310066 | -0.11760107 |  1.000000000 | -0.10808060 | -0.027800562 |  0.17259177 |  0.18314673 | -0.248589855 | -0.21184020 |\n",
       "| gdp |  0.096421485 |  0.44132181 | -0.255034733 | -0.098092020 |  0.44343279 |  0.95929886 |  0.04184950 | -0.064767590 |  0.266113973 | -0.10033126 |  0.15680869 |  0.18037347 |  0.15843774 | -0.108080600 |  1.00000000 | -0.020368964 | -0.27749835 | -0.27795855 |  0.446855511 |  0.46794697 |\n",
       "| population |  0.012566893 | -0.02230498 | -0.015011838 |  0.671758310 | -0.02888023 | -0.01679214 | -0.12972265 |  0.321946377 | -0.081415982 |  0.65867969 | -0.04538657 | -0.07996224 | -0.03989754 | -0.027800562 | -0.02036896 |  1.000000000 |  0.28252928 |  0.27791337 | -0.008132466 | -0.04031242 |\n",
       "| thinness_1_19_years |  0.019756611 | -0.45783819 |  0.272230044 |  0.463415256 | -0.40375499 | -0.25503460 | -0.12940595 |  0.180641506 | -0.547017514 |  0.46478470 | -0.16406959 | -0.20987232 | -0.18724165 |  0.172591767 | -0.27749835 |  0.282529280 |  1.00000000 |  0.92791344 | -0.453678854 | -0.49119921 |\n",
       "| thinness_5_9_years |  0.014122422 | -0.45750829 |  0.286722882 |  0.461907925 | -0.38620819 | -0.25563544 | -0.13325099 |  0.174946217 | -0.554093981 |  0.46228938 | -0.17448925 | -0.21786479 | -0.18095238 |  0.183146727 | -0.27795855 |  0.277913374 |  0.92791344 |  1.00000000 | -0.438483721 | -0.47248203 |\n",
       "| income_composition_of_resources |  0.122891780 |  0.72108259 | -0.442203288 | -0.134753863 |  0.56107433 |  0.40216974 |  0.18492097 | -0.058277256 |  0.510504831 | -0.14809728 |  0.31468159 |  0.18365319 |  0.34326177 | -0.248589855 |  0.44685551 | -0.008132466 | -0.45367885 | -0.43848372 |  1.000000000 |  0.78474058 |\n",
       "| schooling |  0.088731787 |  0.72763003 | -0.421170523 | -0.214371900 |  0.61697481 |  0.42208845 |  0.21518159 | -0.115660481 |  0.554843903 | -0.22601262 |  0.35014660 |  0.24378345 |  0.35039793 | -0.211840201 |  0.46794697 | -0.040312419 | -0.49119921 | -0.47248203 |  0.784740581 |  1.00000000 |\n",
       "\n"
      ],
      "text/plain": [
       "                                year         life_expectancy adult_mortality\n",
       "year                             1.000000000  0.05077103     -0.037091782   \n",
       "life_expectancy                  0.050771035  1.00000000     -0.702523062   \n",
       "adult_mortality                 -0.037091782 -0.70252306      1.000000000   \n",
       "infant_deaths                    0.008029128 -0.16907380      0.042450237   \n",
       "alcohol                         -0.113364764  0.40271832     -0.175535086   \n",
       "percentage_expenditure           0.069553468  0.40963082     -0.237609890   \n",
       "hepatitis_b                      0.114897092  0.19993528     -0.105225443   \n",
       "measles                         -0.053822046 -0.06888122     -0.003966685   \n",
       "bmi                              0.005739061  0.54204159     -0.351542478   \n",
       "under_five_deaths                0.010478594 -0.19226530      0.060365026   \n",
       "polio                           -0.016698803  0.32729440     -0.199853000   \n",
       "total_expenditure                0.059492777  0.17471764     -0.085226535   \n",
       "diphtheria                       0.029640586  0.34133123     -0.191428759   \n",
       "hiv_aids                        -0.123404990 -0.59223629      0.550690745   \n",
       "gdp                              0.096421485  0.44132181     -0.255034733   \n",
       "population                       0.012566893 -0.02230498     -0.015011838   \n",
       "thinness_1_19_years              0.019756611 -0.45783819      0.272230044   \n",
       "thinness_5_9_years               0.014122422 -0.45750829      0.286722882   \n",
       "income_composition_of_resources  0.122891780  0.72108259     -0.442203288   \n",
       "schooling                        0.088731787  0.72763003     -0.421170523   \n",
       "                                infant_deaths alcohol    \n",
       "year                             0.008029128  -0.11336476\n",
       "life_expectancy                 -0.169073804   0.40271832\n",
       "adult_mortality                  0.042450237  -0.17553509\n",
       "infant_deaths                    1.000000000  -0.10621692\n",
       "alcohol                         -0.106216917   1.00000000\n",
       "percentage_expenditure          -0.090764632   0.41704736\n",
       "hepatitis_b                     -0.231768937   0.10988939\n",
       "measles                          0.532679832  -0.05011023\n",
       "bmi                             -0.234425154   0.35339621\n",
       "under_five_deaths                0.996905622  -0.10108216\n",
       "polio                           -0.156928805   0.24031453\n",
       "total_expenditure               -0.146951117   0.21488509\n",
       "diphtheria                      -0.161871004   0.24295143\n",
       "hiv_aids                         0.007711547  -0.02711264\n",
       "gdp                             -0.098092020   0.44343279\n",
       "population                       0.671758310  -0.02888023\n",
       "thinness_1_19_years              0.463415256  -0.40375499\n",
       "thinness_5_9_years               0.461907925  -0.38620819\n",
       "income_composition_of_resources -0.134753863   0.56107433\n",
       "schooling                       -0.214371900   0.61697481\n",
       "                                percentage_expenditure hepatitis_b measles     \n",
       "year                             0.06955347             0.11489709 -0.053822046\n",
       "life_expectancy                  0.40963082             0.19993528 -0.068881222\n",
       "adult_mortality                 -0.23760989            -0.10522544 -0.003966685\n",
       "infant_deaths                   -0.09076463            -0.23176894  0.532679832\n",
       "alcohol                          0.41704736             0.10988939 -0.050110235\n",
       "percentage_expenditure           1.00000000             0.01676017 -0.063070789\n",
       "hepatitis_b                      0.01676017             1.00000000 -0.124799993\n",
       "measles                         -0.06307079            -0.12479999  1.000000000\n",
       "bmi                              0.24273824             0.14330179 -0.153245464\n",
       "under_five_deaths               -0.09215806            -0.24076603  0.517505563\n",
       "polio                            0.12862605             0.46333080 -0.057850133\n",
       "total_expenditure                0.18387236             0.11332668 -0.113582738\n",
       "diphtheria                       0.13481324             0.58898993 -0.058605907\n",
       "hiv_aids                        -0.09508499            -0.09480197 -0.003521854\n",
       "gdp                              0.95929886             0.04184950 -0.064767590\n",
       "population                      -0.01679214            -0.12972265  0.321946377\n",
       "thinness_1_19_years             -0.25503460            -0.12940595  0.180641506\n",
       "thinness_5_9_years              -0.25563544            -0.13325099  0.174946217\n",
       "income_composition_of_resources  0.40216974             0.18492097 -0.058277256\n",
       "schooling                        0.42208845             0.21518159 -0.115660481\n",
       "                                bmi          under_five_deaths polio      \n",
       "year                             0.005739061  0.01047859       -0.01669880\n",
       "life_expectancy                  0.542041588 -0.19226530        0.32729440\n",
       "adult_mortality                 -0.351542478  0.06036503       -0.19985300\n",
       "infant_deaths                   -0.234425154  0.99690562       -0.15692881\n",
       "alcohol                          0.353396205 -0.10108216        0.24031453\n",
       "percentage_expenditure           0.242738243 -0.09215806        0.12862605\n",
       "hepatitis_b                      0.143301786 -0.24076603        0.46333080\n",
       "measles                         -0.153245464  0.51750556       -0.05785013\n",
       "bmi                              1.000000000 -0.24213740        0.18626797\n",
       "under_five_deaths               -0.242137398  1.00000000       -0.17116419\n",
       "polio                            0.186267965 -0.17116419        1.00000000\n",
       "total_expenditure                0.189468964 -0.14580310        0.11976798\n",
       "diphtheria                       0.176294503 -0.17844819        0.60924547\n",
       "hiv_aids                        -0.210896746  0.01947593       -0.10788547\n",
       "gdp                              0.266113973 -0.10033126        0.15680869\n",
       "population                      -0.081415982  0.65867969       -0.04538657\n",
       "thinness_1_19_years             -0.547017514  0.46478470       -0.16406959\n",
       "thinness_5_9_years              -0.554093981  0.46228938       -0.17448925\n",
       "income_composition_of_resources  0.510504831 -0.14809728        0.31468159\n",
       "schooling                        0.554843903 -0.22601262        0.35014660\n",
       "                                total_expenditure diphtheria  hiv_aids    \n",
       "year                             0.05949278        0.02964059 -0.123404990\n",
       "life_expectancy                  0.17471764        0.34133123 -0.592236293\n",
       "adult_mortality                 -0.08522653       -0.19142876  0.550690745\n",
       "infant_deaths                   -0.14695112       -0.16187100  0.007711547\n",
       "alcohol                          0.21488509        0.24295143 -0.027112636\n",
       "percentage_expenditure           0.18387236        0.13481324 -0.095084991\n",
       "hepatitis_b                      0.11332668        0.58898993 -0.094801971\n",
       "measles                         -0.11358274       -0.05860591 -0.003521854\n",
       "bmi                              0.18946896        0.17629450 -0.210896746\n",
       "under_five_deaths               -0.14580310       -0.17844819  0.019475927\n",
       "polio                            0.11976798        0.60924547 -0.107885468\n",
       "total_expenditure                1.00000000        0.12991481  0.043100657\n",
       "diphtheria                       0.12991481        1.00000000 -0.117601074\n",
       "hiv_aids                         0.04310066       -0.11760107  1.000000000\n",
       "gdp                              0.18037347        0.15843774 -0.108080600\n",
       "population                      -0.07996224       -0.03989754 -0.027800562\n",
       "thinness_1_19_years             -0.20987232       -0.18724165  0.172591767\n",
       "thinness_5_9_years              -0.21786479       -0.18095238  0.183146727\n",
       "income_composition_of_resources  0.18365319        0.34326177 -0.248589855\n",
       "schooling                        0.24378345        0.35039793 -0.211840201\n",
       "                                gdp         population   thinness_1_19_years\n",
       "year                             0.09642148  0.012566893  0.01975661        \n",
       "life_expectancy                  0.44132181 -0.022304978 -0.45783819        \n",
       "adult_mortality                 -0.25503473 -0.015011838  0.27223004        \n",
       "infant_deaths                   -0.09809202  0.671758310  0.46341526        \n",
       "alcohol                          0.44343279 -0.028880232 -0.40375499        \n",
       "percentage_expenditure           0.95929886 -0.016792141 -0.25503460        \n",
       "hepatitis_b                      0.04184950 -0.129722655 -0.12940595        \n",
       "measles                         -0.06476759  0.321946377  0.18064151        \n",
       "bmi                              0.26611397 -0.081415982 -0.54701751        \n",
       "under_five_deaths               -0.10033126  0.658679691  0.46478470        \n",
       "polio                            0.15680869 -0.045386572 -0.16406959        \n",
       "total_expenditure                0.18037347 -0.079962237 -0.20987232        \n",
       "diphtheria                       0.15843774 -0.039897537 -0.18724165        \n",
       "hiv_aids                        -0.10808060 -0.027800562  0.17259177        \n",
       "gdp                              1.00000000 -0.020368964 -0.27749835        \n",
       "population                      -0.02036896  1.000000000  0.28252928        \n",
       "thinness_1_19_years             -0.27749835  0.282529280  1.00000000        \n",
       "thinness_5_9_years              -0.27795855  0.277913374  0.92791344        \n",
       "income_composition_of_resources  0.44685551 -0.008132466 -0.45367885        \n",
       "schooling                        0.46794697 -0.040312419 -0.49119921        \n",
       "                                thinness_5_9_years\n",
       "year                             0.01412242       \n",
       "life_expectancy                 -0.45750829       \n",
       "adult_mortality                  0.28672288       \n",
       "infant_deaths                    0.46190792       \n",
       "alcohol                         -0.38620819       \n",
       "percentage_expenditure          -0.25563544       \n",
       "hepatitis_b                     -0.13325099       \n",
       "measles                          0.17494622       \n",
       "bmi                             -0.55409398       \n",
       "under_five_deaths                0.46228938       \n",
       "polio                           -0.17448925       \n",
       "total_expenditure               -0.21786479       \n",
       "diphtheria                      -0.18095238       \n",
       "hiv_aids                         0.18314673       \n",
       "gdp                             -0.27795855       \n",
       "population                       0.27791337       \n",
       "thinness_1_19_years              0.92791344       \n",
       "thinness_5_9_years               1.00000000       \n",
       "income_composition_of_resources -0.43848372       \n",
       "schooling                       -0.47248203       \n",
       "                                income_composition_of_resources schooling  \n",
       "year                             0.122891780                     0.08873179\n",
       "life_expectancy                  0.721082593                     0.72763003\n",
       "adult_mortality                 -0.442203288                    -0.42117052\n",
       "infant_deaths                   -0.134753863                    -0.21437190\n",
       "alcohol                          0.561074332                     0.61697481\n",
       "percentage_expenditure           0.402169736                     0.42208845\n",
       "hepatitis_b                      0.184920970                     0.21518159\n",
       "measles                         -0.058277256                    -0.11566048\n",
       "bmi                              0.510504831                     0.55484390\n",
       "under_five_deaths               -0.148097276                    -0.22601262\n",
       "polio                            0.314681594                     0.35014660\n",
       "total_expenditure                0.183653190                     0.24378345\n",
       "diphtheria                       0.343261772                     0.35039793\n",
       "hiv_aids                        -0.248589855                    -0.21184020\n",
       "gdp                              0.446855511                     0.46794697\n",
       "population                      -0.008132466                    -0.04031242\n",
       "thinness_1_19_years             -0.453678854                    -0.49119921\n",
       "thinness_5_9_years              -0.438483721                    -0.47248203\n",
       "income_composition_of_resources  1.000000000                     0.78474058\n",
       "schooling                        0.784740581                     1.00000000"
      ]
     },
     "metadata": {},
     "output_type": "display_data"
    }
   ],
   "source": [
    "cor(subset(select(data, -c(country, status))))"
   ]
  },
  {
   "cell_type": "code",
   "execution_count": null,
   "id": "6084f382-2705-466d-ad97-81a1943b39d6",
   "metadata": {},
   "outputs": [],
   "source": [
    "# TODO: "
   ]
  },
  {
   "cell_type": "markdown",
   "id": "998bfec0-2eed-4794-8209-df0981f90384",
   "metadata": {},
   "source": [
    "## 3. Methods"
   ]
  },
  {
   "cell_type": "markdown",
   "id": "34cbf058-6405-4f25-a3da-fe422db61f7c",
   "metadata": {},
   "source": [
    "*Temporary Comment (leave a message for others who read your work)*: \n",
    "- **What methods do you plan on using?**   \n",
    "Perform forward/ backward generative modeling to determine which input variables explains the relation the best\n",
    "Perform multicollinearity tests to see whether we should do a additive/ interaction\n",
    "Create model lol   \n",
    "- **What do you expect to achieve?**   \n",
    "- **What impact could your results have?**\n"
   ]
  },
  {
   "cell_type": "markdown",
   "id": "40a59fc3-6465-479d-aca9-dc8e4507cc6e",
   "metadata": {},
   "source": [
    "### 3.1 Strengths"
   ]
  },
  {
   "cell_type": "markdown",
   "id": "5f645f9b-6330-4b18-8bb8-1886790dc721",
   "metadata": {},
   "source": [
    "### 3.2 Limitations"
   ]
  },
  {
   "cell_type": "markdown",
   "id": "6af2fc46-eb29-4b83-b3ed-ac08a984d7a1",
   "metadata": {},
   "source": [
    "### 3.3 Analysis"
   ]
  },
  {
   "cell_type": "markdown",
   "id": "3986d298-7372-46aa-b7ac-2c5c4ddcf26c",
   "metadata": {},
   "source": [
    "## 4. Reflection"
   ]
  },
  {
   "cell_type": "markdown",
   "id": "25fcc959-5028-4649-8b5d-75fe58afa0df",
   "metadata": {},
   "source": [
    "# <center>References</center>"
   ]
  },
  {
   "cell_type": "markdown",
   "id": "356b2c31-713f-4ea4-b16f-7a4dc2073da8",
   "metadata": {},
   "source": [
    "Author, A. A., & Author, B. B. (Year). Title of article. Title of Journal, volume number(issue number). [Source](https://www.google.com/logos/2021/halloween21/r1030_5e329/cta.png)   \n",
    "\n",
    "Author, A. A., & Author, B. B. (Year). Title of article. Title of Journal, volume number(issue number). [Source](https://www.google.com/logos/2021/halloween21/r1030_5e329/cta.png)   \n",
    "\n",
    "Author, A. A., & Author, B. B. (Year). Title of article. Title of Journal, volume number(issue number). [Source](https://www.google.com/logos/2021/halloween21/r1030_5e329/cta.png)   "
   ]
  },
  {
   "cell_type": "code",
   "execution_count": null,
   "id": "0b0b856d-0213-47a5-9aac-cc4e03fb420a",
   "metadata": {},
   "outputs": [],
   "source": []
  }
 ],
 "metadata": {
  "kernelspec": {
   "display_name": "R",
   "language": "R",
   "name": "ir"
  },
  "language_info": {
   "codemirror_mode": "r",
   "file_extension": ".r",
   "mimetype": "text/x-r-source",
   "name": "R",
   "pygments_lexer": "r",
   "version": "4.1.3"
  }
 },
 "nbformat": 4,
 "nbformat_minor": 5
}
